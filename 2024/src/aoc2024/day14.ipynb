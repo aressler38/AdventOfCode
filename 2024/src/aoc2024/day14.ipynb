{
 "cells": [
  {
   "cell_type": "code",
   "id": "initial_id",
   "metadata": {
    "collapsed": true,
    "ExecuteTime": {
     "end_time": "2024-12-16T02:32:42.769897Z",
     "start_time": "2024-12-16T02:32:42.764720Z"
    }
   },
   "source": [
    "\n",
    "from functools import reduce\n",
    "\n",
    "\n",
    "class Grid:\n",
    "    width = 101\n",
    "    height = 103\n",
    "    mid_height = (height // 2)\n",
    "    mid_width = (width // 2)\n",
    "\n",
    "\n",
    "class Robot:\n",
    "    def __init__(self, position: tuple[int, int], heading: tuple[int, int]):\n",
    "        self.position = position\n",
    "        self.heading = heading\n",
    "\n",
    "    def __repr__(self):\n",
    "        return f'Robot(p={self.position}, v={self.heading})'\n",
    "\n",
    "\n",
    "def load_input() -> list[Robot]:\n",
    "    with open(\"../../data/day14-input.txt\") as f:\n",
    "        robots: list[Robot] = []\n",
    "        for line in f.readlines():\n",
    "            parts = line.split(' ')\n",
    "            position = tuple([int(_) for _ in parts[0].replace('p=', '').split(',')])\n",
    "            directions = tuple([int(_) for _ in parts[1].replace('v=', '').split(',')])\n",
    "            robot = Robot(position, directions)\n",
    "            robots.append(robot)\n",
    "    return robots"
   ],
   "outputs": [],
   "execution_count": 1
  },
  {
   "metadata": {
    "ExecuteTime": {
     "end_time": "2024-12-16T02:32:42.775416Z",
     "start_time": "2024-12-16T02:32:42.773574Z"
    }
   },
   "cell_type": "code",
   "source": "",
   "id": "3b9e76635c83d5a",
   "outputs": [],
   "execution_count": null
  },
  {
   "metadata": {
    "ExecuteTime": {
     "end_time": "2024-12-16T02:32:42.890134Z",
     "start_time": "2024-12-16T02:32:42.878088Z"
    }
   },
   "cell_type": "code",
   "source": [
    "def run(iterations: int):\n",
    "    robots = load_input()\n",
    "    for robot in robots:\n",
    "        for i in range(0, iterations):\n",
    "            robot.position = (robot.position[0] + robot.heading[0], robot.position[1] + robot.heading[1])\n",
    "            x, y = robot.position\n",
    "            robot.position = (x % Grid.width, y % Grid.height)\n",
    "\n",
    "        #x, y = robot.position\n",
    "        #robot.position = (x % Grid.width, y % Grid.height)\n",
    "\n",
    "    quadrants = [0, 0, 0, 0]\n",
    "\n",
    "    for robot in robots:\n",
    "        if robot.position[0] != Grid.mid_width and robot.position[1] != Grid.mid_height:\n",
    "            if robot.position[0] < Grid.mid_width and robot.position[1] < Grid.mid_height:\n",
    "                quadrants[0] += 1\n",
    "            elif robot.position[0] < Grid.mid_width and robot.position[1] > Grid.mid_height:\n",
    "                quadrants[1] += 1\n",
    "            elif robot.position[0] > Grid.mid_width and robot.position[1] < Grid.mid_height:\n",
    "                quadrants[2] += 1\n",
    "            else:\n",
    "                quadrants[3] += 1\n",
    "    return quadrants\n",
    "\n",
    "\n",
    "quads = run(100)\n",
    "print(reduce(lambda x, y: x * y, quads))\n"
   ],
   "id": "da5a779ac917eb0b",
   "outputs": [
    {
     "name": "stdout",
     "output_type": "stream",
     "text": [
      "225943500\n"
     ]
    }
   ],
   "execution_count": 2
  },
  {
   "metadata": {
    "ExecuteTime": {
     "end_time": "2024-12-16T02:32:42.896838Z",
     "start_time": "2024-12-16T02:32:42.894947Z"
    }
   },
   "cell_type": "code",
   "source": "",
   "id": "b9aa43d2f6b9a68d",
   "outputs": [],
   "execution_count": null
  },
  {
   "metadata": {
    "ExecuteTime": {
     "end_time": "2024-12-16T02:32:42.904171Z",
     "start_time": "2024-12-16T02:32:42.902655Z"
    }
   },
   "cell_type": "code",
   "source": "",
   "id": "776c53ca3b0bfb3c",
   "outputs": [],
   "execution_count": null
  },
  {
   "metadata": {
    "ExecuteTime": {
     "end_time": "2024-12-16T02:32:42.914258Z",
     "start_time": "2024-12-16T02:32:42.911695Z"
    }
   },
   "cell_type": "code",
   "source": "# too high: 229288752",
   "id": "3798ef5dc1a7880",
   "outputs": [],
   "execution_count": 3
  }
 ],
 "metadata": {
  "kernelspec": {
   "display_name": "Python 3",
   "language": "python",
   "name": "python3"
  },
  "language_info": {
   "codemirror_mode": {
    "name": "ipython",
    "version": 2
   },
   "file_extension": ".py",
   "mimetype": "text/x-python",
   "name": "python",
   "nbconvert_exporter": "python",
   "pygments_lexer": "ipython2",
   "version": "2.7.6"
  }
 },
 "nbformat": 4,
 "nbformat_minor": 5
}
