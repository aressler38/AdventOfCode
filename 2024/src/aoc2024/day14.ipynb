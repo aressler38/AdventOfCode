{
 "cells": [
  {
   "cell_type": "code",
   "id": "initial_id",
   "metadata": {
    "collapsed": true,
    "ExecuteTime": {
     "end_time": "2024-12-15T20:51:06.746387Z",
     "start_time": "2024-12-15T20:51:06.740028Z"
    }
   },
   "source": [
    "class Grid:\n",
    "    width = 101\n",
    "    height: 103\n",
    "\n",
    "class Robot:\n",
    "    def __init__(self, position: tuple[int, int], heading: tuple[int, int]):\n",
    "        self.position = position\n",
    "        self.heading = heading\n",
    "    def __repr__(self):\n",
    "        return f'Robot({self.position}, {self.heading})'\n",
    "\n",
    "def load_input() -> list[Robot]:\n",
    "    with open(\"../../data/day14-input.txt\") as f:\n",
    "        robots: list[Robot] = []\n",
    "        for line in f.readlines():\n",
    "            parts = line.split(' ')\n",
    "            position = tuple([int(_) for _ in parts[0].replace('p=', '').split(',')])\n",
    "            directions = tuple([int(_) for _ in parts[1].replace('v=', '').split(',')])\n",
    "            robot = Robot(position, directions)\n",
    "            robots.append(robot)\n",
    "    return robots\n",
    "\n",
    "robots = load_input()"
   ],
   "outputs": [],
   "execution_count": 9
  },
  {
   "metadata": {
    "ExecuteTime": {
     "end_time": "2024-12-15T20:50:16.404130Z",
     "start_time": "2024-12-15T20:50:16.400763Z"
    }
   },
   "cell_type": "code",
   "source": "",
   "id": "cdf0efaafb67221c",
   "outputs": [],
   "execution_count": 7
  },
  {
   "metadata": {},
   "cell_type": "code",
   "outputs": [],
   "execution_count": null,
   "source": "",
   "id": "da5a779ac917eb0b"
  }
 ],
 "metadata": {
  "kernelspec": {
   "display_name": "Python 3",
   "language": "python",
   "name": "python3"
  },
  "language_info": {
   "codemirror_mode": {
    "name": "ipython",
    "version": 2
   },
   "file_extension": ".py",
   "mimetype": "text/x-python",
   "name": "python",
   "nbconvert_exporter": "python",
   "pygments_lexer": "ipython2",
   "version": "2.7.6"
  }
 },
 "nbformat": 4,
 "nbformat_minor": 5
}
