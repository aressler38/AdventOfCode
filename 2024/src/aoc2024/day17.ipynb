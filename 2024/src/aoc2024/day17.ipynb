{
 "cells": [
  {
   "metadata": {
    "ExecuteTime": {
     "end_time": "2024-12-19T06:39:41.616769Z",
     "start_time": "2024-12-19T06:39:41.612232Z"
    }
   },
   "cell_type": "code",
   "source": "from aoc2024.emulator import Emulator",
   "id": "230ec4e0778d678c",
   "outputs": [],
   "execution_count": 6
  },
  {
   "metadata": {
    "ExecuteTime": {
     "end_time": "2024-12-19T06:39:43.433199Z",
     "start_time": "2024-12-19T06:39:43.429172Z"
    }
   },
   "cell_type": "code",
   "source": [
    "emu = Emulator()\n",
    "emu.load_rom()\n",
    "emu.run()\n",
    "print(','.join(map(str,emu.output)))"
   ],
   "id": "6ca0bac58b84c21c",
   "outputs": [
    {
     "name": "stdout",
     "output_type": "stream",
     "text": [
      "not enough values to unpack (expected 2, got 0)\n",
      "2,0,4,2,7,0,1,0,3\n"
     ]
    }
   ],
   "execution_count": 7
  },
  {
   "metadata": {
    "ExecuteTime": {
     "end_time": "2024-12-19T06:25:22.667754Z",
     "start_time": "2024-12-19T06:25:22.665422Z"
    }
   },
   "cell_type": "code",
   "source": "",
   "id": "d926f4eb2085b047",
   "outputs": [],
   "execution_count": null
  },
  {
   "metadata": {
    "ExecuteTime": {
     "end_time": "2024-12-19T06:25:22.680278Z",
     "start_time": "2024-12-19T06:25:22.677490Z"
    }
   },
   "cell_type": "code",
   "source": "",
   "id": "91acf7585bc074b",
   "outputs": [],
   "execution_count": null
  }
 ],
 "metadata": {
  "kernelspec": {
   "display_name": "Python 3",
   "language": "python",
   "name": "python3"
  },
  "language_info": {
   "codemirror_mode": {
    "name": "ipython",
    "version": 2
   },
   "file_extension": ".py",
   "mimetype": "text/x-python",
   "name": "python",
   "nbconvert_exporter": "python",
   "pygments_lexer": "ipython2",
   "version": "2.7.6"
  }
 },
 "nbformat": 4,
 "nbformat_minor": 5
}
