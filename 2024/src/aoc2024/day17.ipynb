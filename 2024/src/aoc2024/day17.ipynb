{
 "cells": [
  {
   "metadata": {
    "ExecuteTime": {
     "end_time": "2024-12-19T06:25:22.565186Z",
     "start_time": "2024-12-19T06:25:22.562532Z"
    }
   },
   "cell_type": "code",
   "source": "",
   "id": "230ec4e0778d678c",
   "outputs": [],
   "execution_count": null
  },
  {
   "metadata": {
    "ExecuteTime": {
     "end_time": "2024-12-19T06:25:22.579617Z",
     "start_time": "2024-12-19T06:25:22.571193Z"
    }
   },
   "cell_type": "code",
   "source": [
    "class Emulator:\n",
    "    def __init__(self):\n",
    "        self.rax = 0\n",
    "        self.rbx = 0\n",
    "        self.rcx = 0\n",
    "        self.eip = 0\n",
    "        self.jumped = False\n",
    "        self.program = []\n",
    "        self.output = []\n",
    "\n",
    "    def run(self):\n",
    "        try:\n",
    "            while True:\n",
    "                opcode, operand = self.program[self.eip:2 + self.eip]\n",
    "                self.run_opcode(opcode, operand)\n",
    "                if not self.jumped:\n",
    "                    self.eip += 2\n",
    "                self.jumped = False\n",
    "        except Exception as error:\n",
    "            print(error)\n",
    "\n",
    "    def combo_operand(self, operand: int):\n",
    "        if 0 < operand < 4:\n",
    "            return operand\n",
    "        elif operand == 4:\n",
    "            return self.rax\n",
    "        elif operand == 5:\n",
    "            return self.rbx\n",
    "        elif operand == 6:\n",
    "            return self.rcx\n",
    "        else:\n",
    "            raise ValueError(f\"{operand} is not a valid operand\")\n",
    "\n",
    "    def run_opcode(self, opcode: int, operand: int):\n",
    "        if opcode == 0:\n",
    "            return self.adv(operand)\n",
    "        elif opcode == 1:\n",
    "            return self.bxl(operand)\n",
    "        elif opcode == 2:\n",
    "            return self.bst(operand)\n",
    "        elif opcode == 3:\n",
    "            return self.jnz(operand)\n",
    "        elif opcode == 4:\n",
    "            return self.bxc(operand)\n",
    "        elif opcode == 5:\n",
    "            return self.out(operand)\n",
    "        elif opcode == 6:\n",
    "            return self.bdv(operand)\n",
    "        elif opcode == 7:\n",
    "            return self.cdv(operand)\n",
    "        else:\n",
    "            raise ValueError(f\"{opcode} is not a valid opcode\")\n",
    "\n",
    "    def adv(self, operand: int):\n",
    "        self.rax = self.rax // (2 ** self.combo_operand(operand))\n",
    "\n",
    "    def bxl(self, operand: int):\n",
    "        self.rbx ^= operand\n",
    "\n",
    "    def bst(self, operand: int):\n",
    "        self.rbx = self.combo_operand(operand) % 8\n",
    "\n",
    "    def jnz(self, operand: int):\n",
    "        if self.rax != 0:\n",
    "            self.eip = operand\n",
    "            self.jumped = True\n",
    "\n",
    "    def bxc(self, operand: int):\n",
    "        # ignore operand\n",
    "        self.rbx ^= self.rcx\n",
    "\n",
    "    def out(self, operand: int):\n",
    "        combo_result = self.combo_operand(operand) % 8\n",
    "        self.output.append(combo_result)\n",
    "\n",
    "    def bdv(self, operand: int):\n",
    "        self.rbx = self.rax // (2 ** self.combo_operand(operand))\n",
    "\n",
    "    def cdv(self, operand: int):\n",
    "        self.rcx = self.rax // (2 ** self.combo_operand(operand))\n",
    "\n",
    "    def load_rom(self):\n",
    "        with open(\"../../data/day17-input.txt\") as f:\n",
    "            parts = f.read().split('\\n\\n')\n",
    "            assert len(parts) == 2\n",
    "            registers = [int(value.split(':')[1].strip()) for value in parts[0].split('\\n')]\n",
    "            self.rax = registers[0]\n",
    "            self.rbx = registers[1]\n",
    "            self.rcx = registers[2]\n",
    "            self.program.extend([int(n) for n in parts[1].split(':')[1].strip().split(',')])\n",
    "        return self\n",
    "\n",
    "\n",
    "\n",
    "emu = Emulator()\n",
    "emu.load_rom()\n",
    "emu.run()\n",
    "print(','.join(map(str,emu.output)))"
   ],
   "id": "6ca0bac58b84c21c",
   "outputs": [
    {
     "name": "stdout",
     "output_type": "stream",
     "text": [
      "not enough values to unpack (expected 2, got 0)\n",
      "2,0,4,2,7,0,1,0,3\n"
     ]
    }
   ],
   "execution_count": 5
  },
  {
   "metadata": {
    "ExecuteTime": {
     "end_time": "2024-12-19T06:25:22.667754Z",
     "start_time": "2024-12-19T06:25:22.665422Z"
    }
   },
   "cell_type": "code",
   "source": "",
   "id": "d926f4eb2085b047",
   "outputs": [],
   "execution_count": null
  },
  {
   "metadata": {
    "ExecuteTime": {
     "end_time": "2024-12-19T06:25:22.680278Z",
     "start_time": "2024-12-19T06:25:22.677490Z"
    }
   },
   "cell_type": "code",
   "source": "",
   "id": "91acf7585bc074b",
   "outputs": [],
   "execution_count": null
  }
 ],
 "metadata": {
  "kernelspec": {
   "display_name": "Python 3",
   "language": "python",
   "name": "python3"
  },
  "language_info": {
   "codemirror_mode": {
    "name": "ipython",
    "version": 2
   },
   "file_extension": ".py",
   "mimetype": "text/x-python",
   "name": "python",
   "nbconvert_exporter": "python",
   "pygments_lexer": "ipython2",
   "version": "2.7.6"
  }
 },
 "nbformat": 4,
 "nbformat_minor": 5
}
