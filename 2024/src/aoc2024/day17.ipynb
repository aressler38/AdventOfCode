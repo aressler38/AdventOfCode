{
 "cells": [
  {
   "metadata": {
    "ExecuteTime": {
     "end_time": "2024-12-19T07:26:13.579589Z",
     "start_time": "2024-12-19T07:26:13.576805Z"
    }
   },
   "cell_type": "code",
   "source": [
    "from multiprocessing import Process, Queue, current_process, freeze_support\n",
    "from queue import Empty\n",
    "from aoc2024.emulator import Emulator"
   ],
   "id": "230ec4e0778d678c",
   "outputs": [],
   "execution_count": 5
  },
  {
   "metadata": {
    "ExecuteTime": {
     "end_time": "2024-12-19T07:23:15.147571Z",
     "start_time": "2024-12-19T07:23:15.143456Z"
    }
   },
   "cell_type": "code",
   "source": [
    "emu = Emulator()\n",
    "emu.load_rom()\n",
    "emu.run()\n",
    "\n",
    "# copy the ints\n",
    "target_vector = [x for x in emu.output]\n",
    "print(\"\\nThe program output is:\", ','.join(map(str, target_vector)))"
   ],
   "id": "6ca0bac58b84c21c",
   "outputs": [
    {
     "name": "stdout",
     "output_type": "stream",
     "text": [
      "not enough values to unpack (expected 2, got 0)\n",
      "\n",
      "The program output is: 2,0,4,2,7,0,1,0,3\n"
     ]
    }
   ],
   "execution_count": 3
  },
  {
   "metadata": {
    "ExecuteTime": {
     "end_time": "2024-12-19T07:27:44.675444Z",
     "start_time": "2024-12-19T07:27:39.651090Z"
    }
   },
   "cell_type": "code",
   "source": [
    "NUM_PROCESSES = 2\n",
    "\n",
    "def worker(input_queue, program_output):\n",
    "    print(\"WORKER\")\n",
    "    rax = input_queue.get()\n",
    "    print(\"RAX:\", rax)\n",
    "    emu = Emulator()\n",
    "    emu.rax = rax\n",
    "    emu.run()\n",
    "    program_output.put((rax, emu.output))\n",
    "\n",
    "input_queue = Queue()\n",
    "output_queue = Queue()\n",
    "\n",
    "rax = 0\n",
    "for _ in range(NUM_PROCESSES):\n",
    "    input_queue.put(rax)\n",
    "    Process(target=worker, args=(input_queue, output_queue)).start()\n",
    "    rax += 1\n",
    "i= 0\n",
    "freeze_support()\n",
    "while True or i < 50000:\n",
    "    i += 1\n",
    "    try:\n",
    "        print(output_queue.get(timeout=2))\n",
    "    except Empty:\n",
    "        break\n",
    "\n"
   ],
   "id": "d926f4eb2085b047",
   "outputs": [],
   "execution_count": 7
  },
  {
   "metadata": {
    "ExecuteTime": {
     "end_time": "2024-12-19T07:28:45.429505Z",
     "start_time": "2024-12-19T07:28:45.423973Z"
    }
   },
   "cell_type": "code",
   "source": "",
   "id": "91acf7585bc074b",
   "outputs": [
    {
     "data": {
      "text/plain": [
       "'MainProcess'"
      ]
     },
     "execution_count": 9,
     "metadata": {},
     "output_type": "execute_result"
    }
   ],
   "execution_count": 9
  },
  {
   "metadata": {},
   "cell_type": "code",
   "outputs": [],
   "execution_count": null,
   "source": "",
   "id": "84c484944492f6b8"
  }
 ],
 "metadata": {
  "kernelspec": {
   "display_name": "Python 3",
   "language": "python",
   "name": "python3"
  },
  "language_info": {
   "codemirror_mode": {
    "name": "ipython",
    "version": 2
   },
   "file_extension": ".py",
   "mimetype": "text/x-python",
   "name": "python",
   "nbconvert_exporter": "python",
   "pygments_lexer": "ipython2",
   "version": "2.7.6"
  }
 },
 "nbformat": 4,
 "nbformat_minor": 5
}
