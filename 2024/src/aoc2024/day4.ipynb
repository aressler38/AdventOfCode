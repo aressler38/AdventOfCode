{
 "cells": [
  {
   "cell_type": "code",
   "id": "initial_id",
   "metadata": {
    "collapsed": true,
    "ExecuteTime": {
     "end_time": "2024-12-05T02:30:52.888029Z",
     "start_time": "2024-12-05T02:30:52.884321Z"
    }
   },
   "source": [
    "with open('../../data/day04/input.txt') as f:\n",
    "    word_grid = []\n",
    "    for line in f.readlines():\n",
    "        word_grid.append([c for c in line if c != '\\n'])\n",
    "\n",
    "dimensions = (len(word_grid), len(word_grid[0]))\n"
   ],
   "outputs": [],
   "execution_count": 26
  },
  {
   "metadata": {
    "ExecuteTime": {
     "end_time": "2024-12-05T02:50:18.334749Z",
     "start_time": "2024-12-05T02:50:18.330238Z"
    }
   },
   "cell_type": "code",
   "source": [
    "search_word = 'XMAS'\n",
    "next_letters = {search_word[i]: search_word[i + 1] for i in range(len(search_word) - 1)}\n",
    "\n",
    "def is_xmas(location: tuple[int, int], expected_char: str, get_next_row, get_next_col):\n",
    "    if word_grid[location[0]][location[1]] == expected_char:\n",
    "        if expected_char == 'S':\n",
    "            return True\n",
    "        next_row = get_next_row(location[0])\n",
    "        if next_row >= dimensions[0] or next_row < 0:\n",
    "            return False\n",
    "        next_col = get_next_col(location[1])\n",
    "        if next_col >= dimensions[1] or next_col < 0:\n",
    "            return False\n",
    "        return is_xmas((next_row, next_col), next_letters[expected_char], get_next_row, get_next_col)\n",
    "    return False"
   ],
   "id": "138bf265ffe8f134",
   "outputs": [],
   "execution_count": 46
  },
  {
   "metadata": {
    "ExecuteTime": {
     "end_time": "2024-12-05T02:50:19.165678Z",
     "start_time": "2024-12-05T02:50:19.161313Z"
    }
   },
   "cell_type": "code",
   "source": [
    "# Define getters for the next element in a word search for all the 'directions' we care about.\n",
    "\n",
    "navigators = [\n",
    "    # Horizontal\n",
    "    [\n",
    "        lambda row: row,\n",
    "        lambda col: col + 1\n",
    "    ],\n",
    "    # Reverse horizontal\n",
    "    [\n",
    "        lambda row: row,\n",
    "        lambda col: col - 1\n",
    "    ],\n",
    "    # Vertical searches\n",
    "    [\n",
    "        lambda row: row + 1,\n",
    "        lambda col: col\n",
    "    ],\n",
    "    # Reverse vertical\n",
    "    [\n",
    "        lambda row: row - 1,\n",
    "        lambda col: col\n",
    "    ],\n",
    "    # Right diagonal\n",
    "    [\n",
    "        lambda row: row + 1,\n",
    "        lambda col: col + 1\n",
    "    ],\n",
    "    # Reverse right diagonal\n",
    "    [\n",
    "        lambda row: row - 1,\n",
    "        lambda col: col - 1\n",
    "    ],\n",
    "    # Left diagonal\n",
    "    [\n",
    "        lambda row: row - 1,\n",
    "        lambda col: col + 1\n",
    "    ],\n",
    "    # Reverse left diagonal\n",
    "    [\n",
    "        lambda row: row + 1,\n",
    "        lambda col: col - 1\n",
    "    ]\n",
    "]\n"
   ],
   "id": "9a6799fa4fb3c988",
   "outputs": [],
   "execution_count": 47
  },
  {
   "metadata": {
    "ExecuteTime": {
     "end_time": "2024-12-05T02:50:24.911139Z",
     "start_time": "2024-12-05T02:50:24.872701Z"
    }
   },
   "cell_type": "code",
   "source": [
    "counter = 0\n",
    "for row in range(dimensions[0]):\n",
    "    for col in range(dimensions[1]):\n",
    "        for navigator in navigators:\n",
    "            row_navigator = navigator[0]\n",
    "            col_navigator = navigator[1]\n",
    "            if is_xmas((row, col), \"X\", row_navigator, col_navigator):\n",
    "                counter += 1\n",
    "print(counter)"
   ],
   "id": "ec76fe27be67798c",
   "outputs": [
    {
     "name": "stdout",
     "output_type": "stream",
     "text": [
      "2562\n"
     ]
    }
   ],
   "execution_count": 51
  },
  {
   "metadata": {},
   "cell_type": "code",
   "outputs": [],
   "execution_count": null,
   "source": "",
   "id": "e05e9b34be2f3d53"
  }
 ],
 "metadata": {
  "kernelspec": {
   "display_name": "Python 3",
   "language": "python",
   "name": "python3"
  },
  "language_info": {
   "codemirror_mode": {
    "name": "ipython",
    "version": 2
   },
   "file_extension": ".py",
   "mimetype": "text/x-python",
   "name": "python",
   "nbconvert_exporter": "python",
   "pygments_lexer": "ipython2",
   "version": "2.7.6"
  }
 },
 "nbformat": 4,
 "nbformat_minor": 5
}
