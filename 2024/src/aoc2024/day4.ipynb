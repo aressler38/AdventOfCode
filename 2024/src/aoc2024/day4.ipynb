{
 "cells": [
  {
   "cell_type": "code",
   "id": "initial_id",
   "metadata": {
    "collapsed": true,
    "ExecuteTime": {
     "end_time": "2024-12-07T01:45:02.900920Z",
     "start_time": "2024-12-07T01:45:02.895929Z"
    }
   },
   "source": [
    "with open('../../data/day04-input.txt') as f:\n",
    "    word_grid = []\n",
    "    for line in f.readlines():\n",
    "        word_grid.append([c for c in line if c != '\\n'])\n",
    "\n",
    "dimensions = (len(word_grid), len(word_grid[0]))\n"
   ],
   "outputs": [],
   "execution_count": 1
  },
  {
   "metadata": {
    "ExecuteTime": {
     "end_time": "2024-12-07T01:45:02.908619Z",
     "start_time": "2024-12-07T01:45:02.904927Z"
    }
   },
   "cell_type": "code",
   "source": [
    "search_word = 'XMAS'\n",
    "next_letters = {search_word[i]: search_word[i + 1] for i in range(len(search_word) - 1)}\n",
    "\n",
    "\n",
    "def is_xmas(location: tuple[int, int], expected_char: str, get_next_row, get_next_col):\n",
    "    if word_grid[location[0]][location[1]] == expected_char:\n",
    "        if expected_char == 'S':\n",
    "            return True\n",
    "        next_row = get_next_row(location[0])\n",
    "        if next_row >= dimensions[0] or next_row < 0:\n",
    "            return False\n",
    "        next_col = get_next_col(location[1])\n",
    "        if next_col >= dimensions[1] or next_col < 0:\n",
    "            return False\n",
    "        return is_xmas((next_row, next_col), next_letters[expected_char], get_next_row, get_next_col)\n",
    "    return False"
   ],
   "id": "138bf265ffe8f134",
   "outputs": [],
   "execution_count": 2
  },
  {
   "metadata": {
    "ExecuteTime": {
     "end_time": "2024-12-07T01:45:03.005315Z",
     "start_time": "2024-12-07T01:45:03.002484Z"
    }
   },
   "cell_type": "code",
   "source": [
    "# Define getters for the next element in a word search for all the 'directions' we care about.\n",
    "\n",
    "navigators = [\n",
    "    # Horizontal\n",
    "    [\n",
    "        lambda row: row,\n",
    "        lambda col: col + 1\n",
    "    ],\n",
    "    # Reverse horizontal\n",
    "    [\n",
    "        lambda row: row,\n",
    "        lambda col: col - 1\n",
    "    ],\n",
    "    # Vertical searches\n",
    "    [\n",
    "        lambda row: row + 1,\n",
    "        lambda col: col\n",
    "    ],\n",
    "    # Reverse vertical\n",
    "    [\n",
    "        lambda row: row - 1,\n",
    "        lambda col: col\n",
    "    ],\n",
    "    # Right diagonal\n",
    "    [\n",
    "        lambda row: row + 1,\n",
    "        lambda col: col + 1\n",
    "    ],\n",
    "    # Reverse right diagonal\n",
    "    [\n",
    "        lambda row: row - 1,\n",
    "        lambda col: col - 1\n",
    "    ],\n",
    "    # Left diagonal\n",
    "    [\n",
    "        lambda row: row - 1,\n",
    "        lambda col: col + 1\n",
    "    ],\n",
    "    # Reverse left diagonal\n",
    "    [\n",
    "        lambda row: row + 1,\n",
    "        lambda col: col - 1\n",
    "    ]\n",
    "]\n"
   ],
   "id": "9a6799fa4fb3c988",
   "outputs": [],
   "execution_count": 3
  },
  {
   "metadata": {
    "ExecuteTime": {
     "end_time": "2024-12-07T01:45:03.049169Z",
     "start_time": "2024-12-07T01:45:03.010819Z"
    }
   },
   "cell_type": "code",
   "source": [
    "counter = 0\n",
    "for row in range(dimensions[0]):\n",
    "    for col in range(dimensions[1]):\n",
    "        for navigator in navigators:\n",
    "            row_navigator = navigator[0]\n",
    "            col_navigator = navigator[1]\n",
    "            if is_xmas((row, col), \"X\", row_navigator, col_navigator):\n",
    "                counter += 1\n",
    "print(counter)"
   ],
   "id": "ec76fe27be67798c",
   "outputs": [
    {
     "name": "stdout",
     "output_type": "stream",
     "text": [
      "2562\n"
     ]
    }
   ],
   "execution_count": 4
  },
  {
   "metadata": {
    "ExecuteTime": {
     "end_time": "2024-12-07T01:45:03.061652Z",
     "start_time": "2024-12-07T01:45:03.054444Z"
    }
   },
   "cell_type": "code",
   "source": [
    "# okay, now we have to find the crossed MAS texts. They have to form an X... fun\n",
    "# There are 4 ways to make this happen.\n",
    "# Find the A in the middle and then determine if M and S chars are in the correct positions.\n",
    "# Because you can't form this pattern on the very top or bottom rows, or with an A on the first\n",
    "# or last columns, don't search on those.\n",
    "\n",
    "def is_xmas_cross(pos: tuple[int, int],\n",
    "                  upper_right: str,\n",
    "                  upper_left: str,\n",
    "                  lower_left: str,\n",
    "                  lower_right: str) -> bool:\n",
    "    if upper_right == word_grid[pos[0] - 1][pos[1] + 1] \\\n",
    "            and upper_left == word_grid[pos[0] - 1][pos[1] - 1] \\\n",
    "            and lower_left == word_grid[pos[0] + 1][pos[1] - 1] \\\n",
    "            and lower_right == word_grid[pos[0] + 1][pos[1] + 1]:\n",
    "        return True\n",
    "    return False\n",
    "\n",
    "\n",
    "counter = 0\n",
    "for row in range(1, dimensions[0] - 1):\n",
    "    for col in range(1, dimensions[1] - 1):\n",
    "        if word_grid[row][col] != 'A':\n",
    "            continue\n",
    "        pos = (row, col)\n",
    "        if is_xmas_cross(pos, \"M\", \"S\", \"S\", \"M\"):\n",
    "            counter += 1\n",
    "        elif is_xmas_cross(pos, \"S\", \"M\", \"M\", \"S\"):\n",
    "            counter += 1\n",
    "        elif is_xmas_cross(pos, \"M\", \"M\", \"S\", \"S\"):\n",
    "            counter += 1\n",
    "        elif is_xmas_cross(pos, \"S\", \"S\", \"M\", \"M\"):\n",
    "            counter += 1\n",
    "print(counter)\n"
   ],
   "id": "e05e9b34be2f3d53",
   "outputs": [
    {
     "name": "stdout",
     "output_type": "stream",
     "text": [
      "1902\n"
     ]
    }
   ],
   "execution_count": 5
  },
  {
   "metadata": {
    "ExecuteTime": {
     "end_time": "2024-12-07T01:45:03.069021Z",
     "start_time": "2024-12-07T01:45:03.067280Z"
    }
   },
   "cell_type": "code",
   "source": "",
   "id": "4dbc14f6f2721b86",
   "outputs": [],
   "execution_count": null
  }
 ],
 "metadata": {
  "kernelspec": {
   "display_name": "Python 3",
   "language": "python",
   "name": "python3"
  },
  "language_info": {
   "codemirror_mode": {
    "name": "ipython",
    "version": 2
   },
   "file_extension": ".py",
   "mimetype": "text/x-python",
   "name": "python",
   "nbconvert_exporter": "python",
   "pygments_lexer": "ipython2",
   "version": "2.7.6"
  }
 },
 "nbformat": 4,
 "nbformat_minor": 5
}
