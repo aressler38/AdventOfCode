{
 "cells": [
  {
   "cell_type": "code",
   "id": "initial_id",
   "metadata": {
    "collapsed": true,
    "ExecuteTime": {
     "end_time": "2024-12-14T03:47:18.892008Z",
     "start_time": "2024-12-14T03:47:18.886008Z"
    }
   },
   "source": [
    "import functools\n",
    "from dataclasses import dataclass, field\n",
    "\n",
    "@dataclass()\n",
    "class Machine:\n",
    "    button_a: tuple[int, int] = ()\n",
    "    button_b: tuple[int, int] = ()\n",
    "    prize: tuple[int, int] = ()\n",
    "\n",
    "def load_input() -> list[Machine]:\n",
    "    with open(\"../../data/day13-input.txt\") as f:\n",
    "        machines: list[Machine] = []\n",
    "        for group in f.read().split('\\n\\n'):\n",
    "            machine = Machine()\n",
    "            rules = group.split('\\n')\n",
    "            parts = rules[0].split(':')[1].replace('X+', '').replace('Y+', '').replace(' ', '').split(',')\n",
    "            machine.button_a = (int(parts[0]), int(parts[1]))\n",
    "            parts = rules[1].split(':')[1].replace('X+', '').replace('Y+', '').replace(' ', '').split(',')\n",
    "            machine.button_b = (int(parts[0]), int(parts[1]))\n",
    "            parts = rules[2].split(':')[1].replace('X=', '').replace('Y=', '').replace(' ', '').split(',')\n",
    "            machine.prize = (int(parts[0]), int(parts[1]))\n",
    "            machines.append(machine)\n",
    "    return machines\n"
   ],
   "outputs": [],
   "execution_count": 2
  },
  {
   "metadata": {
    "ExecuteTime": {
     "end_time": "2024-12-14T03:47:27.270784Z",
     "start_time": "2024-12-14T03:47:27.266352Z"
    }
   },
   "cell_type": "code",
   "source": "machines = load_input()",
   "id": "a9babf6f24c20103",
   "outputs": [],
   "execution_count": 3
  },
  {
   "metadata": {},
   "cell_type": "code",
   "outputs": [],
   "execution_count": null,
   "source": "",
   "id": "779aa95824d9dcf"
  }
 ],
 "metadata": {
  "kernelspec": {
   "display_name": "Python 3",
   "language": "python",
   "name": "python3"
  },
  "language_info": {
   "codemirror_mode": {
    "name": "ipython",
    "version": 2
   },
   "file_extension": ".py",
   "mimetype": "text/x-python",
   "name": "python",
   "nbconvert_exporter": "python",
   "pygments_lexer": "ipython2",
   "version": "2.7.6"
  }
 },
 "nbformat": 4,
 "nbformat_minor": 5
}
