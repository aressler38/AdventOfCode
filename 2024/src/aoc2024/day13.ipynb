{
 "cells": [
  {
   "cell_type": "code",
   "id": "initial_id",
   "metadata": {
    "collapsed": true,
    "ExecuteTime": {
     "end_time": "2024-12-15T20:40:55.208877Z",
     "start_time": "2024-12-15T20:40:55.201863Z"
    }
   },
   "source": [
    "from dataclasses import dataclass, field\n",
    "\n",
    "@dataclass()\n",
    "class Machine:\n",
    "    button_a: tuple[int, int] = ()\n",
    "    button_b: tuple[int, int] = ()\n",
    "\n",
    "    prize: tuple[int, int] = ()\n",
    "    max_a_presses: int = 0\n",
    "    max_b_presses: int = 0\n",
    "\n",
    "    def init_maxes(self):\n",
    "        ax = self.button_a[0]\n",
    "        ay = self.button_a[1]\n",
    "        bx = self.button_b[0]\n",
    "        by = self.button_b[1]\n",
    "\n",
    "        px = self.prize[0]\n",
    "        py = self.prize[1]\n",
    "\n",
    "        max_ax = px // ax\n",
    "        max_ay = py // ay\n",
    "        max_bx = px // bx\n",
    "        max_by = py // by\n",
    "        self.max_a_presses = min(max_ax, max_ay)\n",
    "        self.max_b_presses = min(max_bx, max_by)\n",
    "\n",
    "\n",
    "def load_input() -> list[Machine]:\n",
    "    with open(\"../../data/day13-input.txt\") as f:\n",
    "        machines: list[Machine] = []\n",
    "        for group in f.read().split('\\n\\n'):\n",
    "            machine = Machine()\n",
    "            rules = group.split('\\n')\n",
    "            parts = rules[0].split(':')[1].replace('X+', '').replace('Y+', '').replace(' ', '').split(',')\n",
    "            machine.button_a = (int(parts[0]), int(parts[1]))\n",
    "            parts = rules[1].split(':')[1].replace('X+', '').replace('Y+', '').replace(' ', '').split(',')\n",
    "            machine.button_b = (int(parts[0]), int(parts[1]))\n",
    "            parts = rules[2].split(':')[1].replace('X=', '').replace('Y=', '').replace(' ', '').split(',')\n",
    "            machine.prize = (int(parts[0]), int(parts[1]))\n",
    "            machine.init_maxes()\n",
    "            machines.append(machine)\n",
    "    return machines\n"
   ],
   "outputs": [],
   "execution_count": 117
  },
  {
   "metadata": {
    "ExecuteTime": {
     "end_time": "2024-12-15T20:40:55.268089Z",
     "start_time": "2024-12-15T20:40:55.214135Z"
    }
   },
   "cell_type": "code",
   "source": [
    "def vector_can_hit_target(vector: tuple[int, int], from_vector: tuple[int, int],\n",
    "                          target_vector: tuple[int, int]) -> bool:\n",
    "    \"\"\"If so, then return how many steps it takes\"\"\"\n",
    "    reference_vector = (target_vector[0] - from_vector[0], target_vector[1] - from_vector[1])\n",
    "    ratio = (reference_vector[0] / reference_vector[1]).as_integer_ratio()\n",
    "    if ratio == (vector[0] / vector[1]).as_integer_ratio():\n",
    "        return reference_vector[0] // vector[0]\n",
    "    return False\n",
    "\n",
    "\n",
    "def find_steps_to_target(vector: tuple[int, int], target_vector: tuple[int, int], step: int, min_step: int,\n",
    "                         max_step: int) -> int:\n",
    "    \"\"\" Binary search, but it's not needed\"\"\"\n",
    "    a, b = step * vector[0], step * vector[1]\n",
    "    if a == target_vector[0] and b == target_vector[1]:\n",
    "        #print(\"found:\", step)\n",
    "        return step\n",
    "    elif a < target_vector[0]:\n",
    "        # step forward by 1/2\n",
    "        next_step = step + max(1, (max_step - step) // 2)\n",
    "        #print(\"too little:\", step, \"next = \", next_step)\n",
    "        return find_steps_to_target(vector, target_vector, next_step, step, max_step)\n",
    "    else:\n",
    "        # Step back by 1/2\n",
    "        next_step = min_step + max(1, (step - min_step) // 2)\n",
    "        #print(\"too big:\", step, \"next = \", next_step)\n",
    "        return find_steps_to_target(vector, target_vector, next_step, min_step, step)\n",
    "\n",
    "\n",
    "def solve_machine(machine: Machine):\n",
    "    vec_a = machine.button_a\n",
    "    vec_b = machine.button_b\n",
    "    solutions = []\n",
    "\n",
    "    # Check if you don't need to press B\n",
    "    if vector_can_hit_target(vec_a, (0, 0), machine.prize):\n",
    "        only_a_presses = vector_can_hit_target(vec_a, (0, 0), machine.prize)\n",
    "        if only_a_presses is not False:\n",
    "            solutions.append((only_a_presses, 0))\n",
    "\n",
    "    for a_press in range(0, machine.max_a_presses):\n",
    "        a_position = a_press * vec_a[0], a_press * vec_a[1]\n",
    "        steps_to_target = vector_can_hit_target(vec_b, a_position, machine.prize)\n",
    "        if steps_to_target is not False:\n",
    "            solutions.append((a_press, steps_to_target))\n",
    "    return solutions\n",
    "\n",
    "\n",
    "def solve_problem():\n",
    "    cost_a = 3\n",
    "    cost_b = 1\n",
    "\n",
    "    machines = load_input()\n",
    "    total_cost = 0\n",
    "    solutions = []\n",
    "    for machine in machines:\n",
    "        solution = solve_machine(machine)\n",
    "        if solution:\n",
    "            if len(solution) > 1:\n",
    "                raise Exception(\"Not handled\")\n",
    "            a, b = solution[0]\n",
    "            if 100 < a or 100 < b:\n",
    "                print('skip:', solution[0])\n",
    "                continue\n",
    "            total_cost += a * cost_a + b * cost_b\n",
    "            solutions.append((a, b, machine))\n",
    "\n",
    "    return total_cost, solutions\n",
    "\n",
    "\n",
    "total_cost_part1, part_1_solutions = solve_problem()\n",
    "print(total_cost_part1)"
   ],
   "id": "2e103d1725e4486b",
   "outputs": [
    {
     "name": "stdout",
     "output_type": "stream",
     "text": [
      "30973\n"
     ]
    }
   ],
   "execution_count": 118
  },
  {
   "metadata": {},
   "cell_type": "markdown",
   "source": [
    "### Part 2\n",
    "\n",
    "After solving part 1 the wrong way, I wrote the problem down on paper and realized this is a linear algebra problem.\n",
    "It's asking if the solution to **v**A = **b** exists when **v** has integer components. Matrix, A, is the collection of\n",
    "button vectors arranged as columns. Writing the equations on paper and arranging it as a matrix sets up the system of\n",
    "equations to be reduced to upper right triangular form."
   ],
   "id": "eac191e0d929dcc4"
  },
  {
   "metadata": {
    "ExecuteTime": {
     "end_time": "2024-12-15T20:40:55.413538Z",
     "start_time": "2024-12-15T20:40:55.274359Z"
    }
   },
   "cell_type": "code",
   "source": [
    "import sympy\n",
    "\n",
    "def solve_part_2():\n",
    "    cost_a = 3\n",
    "    cost_b = 1\n",
    "\n",
    "    offset = 10000000000000\n",
    "\n",
    "    machines = load_input()\n",
    "    total_cost = 0\n",
    "    for machine in machines:\n",
    "        machine.prize = (offset + machine.prize[0], offset + machine.prize[1])\n",
    "        A = sympy.Matrix([\n",
    "            [machine.button_a[0], machine.button_b[0]],\n",
    "            [machine.button_a[1], machine.button_b[1]]\n",
    "        ])\n",
    "        b = sympy.Matrix(machine.prize)\n",
    "        solution = A.solve(b)\n",
    "        n, m = solution\n",
    "        if n.is_integer and m.is_integer:\n",
    "            total_cost += int(n) * cost_a + int(m) * cost_b\n",
    "    return total_cost\n",
    "\n",
    "\n",
    "print(solve_part_2())"
   ],
   "id": "83a66bba3cf5e0d",
   "outputs": [
    {
     "name": "stdout",
     "output_type": "stream",
     "text": [
      "95688837203288\n"
     ]
    }
   ],
   "execution_count": 119
  }
 ],
 "metadata": {
  "kernelspec": {
   "display_name": "Python 3",
   "language": "python",
   "name": "python3"
  },
  "language_info": {
   "codemirror_mode": {
    "name": "ipython",
    "version": 2
   },
   "file_extension": ".py",
   "mimetype": "text/x-python",
   "name": "python",
   "nbconvert_exporter": "python",
   "pygments_lexer": "ipython2",
   "version": "2.7.6"
  }
 },
 "nbformat": 4,
 "nbformat_minor": 5
}
