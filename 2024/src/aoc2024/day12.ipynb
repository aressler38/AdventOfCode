{
 "cells": [
  {
   "cell_type": "code",
   "id": "initial_id",
   "metadata": {
    "collapsed": true,
    "ExecuteTime": {
     "end_time": "2024-12-13T04:05:02.421273Z",
     "start_time": "2024-12-13T04:05:02.416335Z"
    }
   },
   "source": [
    "import functools\n",
    "\n",
    "\n",
    "def load_input() -> list[list[str]]:\n",
    "    with open(\"../../data/day12-input.txt\") as f:\n",
    "        grid = []\n",
    "        for line in f.readlines():\n",
    "            line = line.strip()\n",
    "            row = []\n",
    "            for char in line:\n",
    "                row.append(char)\n",
    "            grid.append(row)\n",
    "    return grid\n",
    "\n",
    "\n",
    "@functools.lru_cache(maxsize=None)\n",
    "def move_to(x, y, direction):\n",
    "    dirs = {\n",
    "        'up': lambda i, j: (i - 1, j),\n",
    "        'down': lambda i, j: (i + 1, j),\n",
    "        'left': lambda i, j: (i, j - 1),\n",
    "        'right': lambda i, j: (i, j + 1),\n",
    "    }\n",
    "    return dirs[direction](x, y)\n",
    "\n"
   ],
   "outputs": [],
   "execution_count": 1
  },
  {
   "metadata": {},
   "cell_type": "code",
   "outputs": [],
   "execution_count": null,
   "source": "",
   "id": "80aec62f47a9a7"
  }
 ],
 "metadata": {
  "kernelspec": {
   "display_name": "Python 3",
   "language": "python",
   "name": "python3"
  },
  "language_info": {
   "codemirror_mode": {
    "name": "ipython",
    "version": 2
   },
   "file_extension": ".py",
   "mimetype": "text/x-python",
   "name": "python",
   "nbconvert_exporter": "python",
   "pygments_lexer": "ipython2",
   "version": "2.7.6"
  }
 },
 "nbformat": 4,
 "nbformat_minor": 5
}
