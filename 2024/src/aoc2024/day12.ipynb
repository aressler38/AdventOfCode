{
 "cells": [
  {
   "cell_type": "code",
   "id": "initial_id",
   "metadata": {
    "collapsed": true,
    "ExecuteTime": {
     "end_time": "2024-12-14T03:33:03.605786Z",
     "start_time": "2024-12-14T03:33:03.600120Z"
    }
   },
   "source": [
    "import functools\n",
    "from dataclasses import dataclass, field\n",
    "\n",
    "\n",
    "def load_input() -> list[list[str]]:\n",
    "    with open(\"../../data/day12-input.txt\") as f:\n",
    "        grid = []\n",
    "        for line in f.readlines():\n",
    "            line = line.strip()\n",
    "            row = []\n",
    "            for char in line:\n",
    "                row.append(char)\n",
    "            grid.append(row)\n",
    "    return grid\n",
    "\n",
    "\n",
    "@functools.lru_cache(maxsize=None)\n",
    "def move_to(row, col, direction) -> tuple[int, int]:\n",
    "    dirs = {\n",
    "        'up': lambda i, j: (i - 1, j),\n",
    "        'down': lambda i, j: (i + 1, j),\n",
    "        'left': lambda i, j: (i, j - 1),\n",
    "        'right': lambda i, j: (i, j + 1),\n",
    "    }\n",
    "    return dirs[direction](row, col)\n",
    "\n"
   ],
   "outputs": [],
   "execution_count": 6
  },
  {
   "metadata": {
    "ExecuteTime": {
     "end_time": "2024-12-14T03:33:03.612815Z",
     "start_time": "2024-12-14T03:33:03.608797Z"
    }
   },
   "cell_type": "code",
   "source": [
    "@dataclass()\n",
    "class GridSquareBorders:\n",
    "    up: bool = False\n",
    "    left: bool = False\n",
    "    down: bool = False\n",
    "    right: bool = False\n",
    "\n",
    "\n",
    "@dataclass()\n",
    "class GridSquare:\n",
    "    row: int\n",
    "    col: int\n",
    "    value: str\n",
    "    marked: bool = False\n",
    "    borders: GridSquareBorders = field(default_factory=lambda: GridSquareBorders())\n",
    "\n",
    "    def __hash__(self) -> int:\n",
    "        return hash((self.row, self.col, self.value))\n"
   ],
   "id": "80aec62f47a9a7",
   "outputs": [],
   "execution_count": 7
  },
  {
   "metadata": {
    "ExecuteTime": {
     "end_time": "2024-12-14T03:33:03.621037Z",
     "start_time": "2024-12-14T03:33:03.618017Z"
    }
   },
   "cell_type": "code",
   "source": [
    "def create_grid():\n",
    "    raw_grid = load_input()\n",
    "    grid = []\n",
    "    for i, row in enumerate(raw_grid):\n",
    "        grid_row = []\n",
    "        for j, col in enumerate(row):\n",
    "            grid_row.append(GridSquare(i, j, col, False))\n",
    "        grid.append(grid_row)\n",
    "    return grid\n",
    "\n",
    "\n",
    "def clear_grid_markers(grid: list[list[GridSquare]]) -> None:\n",
    "    for row in grid:\n",
    "        for square in row:\n",
    "            square.marked = False\n"
   ],
   "id": "391a30bfee750359",
   "outputs": [],
   "execution_count": 8
  },
  {
   "metadata": {
    "ExecuteTime": {
     "end_time": "2024-12-14T03:33:03.775570Z",
     "start_time": "2024-12-14T03:33:03.626025Z"
    }
   },
   "cell_type": "code",
   "source": [
    "def collect_region(current_square: GridSquare, value_to_match: str, grid: list[list[GridSquare]]) -> None:\n",
    "    collection = set()\n",
    "    if current_square.value != value_to_match:\n",
    "        return collection\n",
    "    else:\n",
    "        current_square.marked = True\n",
    "        collection.add(current_square)\n",
    "        for direction in ('up', 'down', 'left', 'right'):\n",
    "            next_row, next_col = move_to(current_square.row, current_square.col, direction)\n",
    "            if -1 < next_row < len(grid) and -1 < next_col < len(grid[0]):\n",
    "                next_square = grid[next_row][next_col]\n",
    "                if next_square.marked:\n",
    "                    continue\n",
    "                else:\n",
    "                    collection = collection | collect_region(next_square, value_to_match, grid)\n",
    "    return collection\n",
    "\n",
    "\n",
    "def collect_regions(grid: list[list[GridSquare]]) -> list[set[GridSquare]]:\n",
    "    regions = []\n",
    "    for i, row in enumerate(grid):\n",
    "        for j, square in enumerate(row):\n",
    "            if square.marked:\n",
    "                continue\n",
    "            region = collect_region(square, square.value, grid)\n",
    "            if region:\n",
    "                regions.append(region)\n",
    "    return regions\n",
    "\n",
    "\n",
    "def count_borders(square: GridSquare, grid: list[list[GridSquare]]) -> int:\n",
    "    borders = 0\n",
    "    for direction in ('up', 'down', 'left', 'right'):\n",
    "        next_row, next_col = move_to(square.row, square.col, direction)\n",
    "        if -1 < next_row < len(grid) and -1 < next_col < len(grid[0]):\n",
    "            next_square = grid[next_row][next_col]\n",
    "            if next_square.value != square.value:\n",
    "                borders += 1\n",
    "        else:\n",
    "            borders += 1\n",
    "    return borders\n",
    "\n",
    "\n",
    "def calculate_cost(region: set[GridSquare], grid: list[list[GridSquare]]) -> int:\n",
    "    perimeter = 0\n",
    "    area = 0\n",
    "    for square in region:\n",
    "        area += 1\n",
    "        perimeter += count_borders(square, grid)\n",
    "    return area * perimeter\n",
    "\n",
    "\n",
    "def calculate_part1_cost():\n",
    "    grid = create_grid()\n",
    "    regions = collect_regions(grid)\n",
    "    clear_grid_markers(regions)\n",
    "    total_cost = 0\n",
    "    for region in regions:\n",
    "        total_cost += calculate_cost(region, grid)\n",
    "    print(total_cost)\n",
    "\n",
    "\n",
    "calculate_part1_cost()"
   ],
   "id": "bacc59c02fdbbef2",
   "outputs": [
    {
     "name": "stdout",
     "output_type": "stream",
     "text": [
      "1375476\n"
     ]
    }
   ],
   "execution_count": 9
  },
  {
   "metadata": {},
   "cell_type": "markdown",
   "source": "## Part 2",
   "id": "922feff3f31c4d4f"
  },
  {
   "metadata": {
    "ExecuteTime": {
     "end_time": "2024-12-14T03:33:03.872725Z",
     "start_time": "2024-12-14T03:33:03.780455Z"
    }
   },
   "cell_type": "code",
   "source": [
    "def mark_borders(region: list[GridSquare], grid: list[list[GridSquare]]) -> list[GridSquare]:\n",
    "    borders = []\n",
    "    for square in region:\n",
    "        for direction in ('up', 'down', 'left', 'right'):\n",
    "            next_row, next_col = move_to(square.row, square.col, direction)\n",
    "            if -1 < next_row < len(grid) and -1 < next_col < len(grid[0]):\n",
    "                next_square = grid[next_row][next_col]\n",
    "                if next_square.value != square.value:\n",
    "                    setattr(square.borders, direction, True)\n",
    "                    borders.append(square)\n",
    "            else:\n",
    "                setattr(square.borders, direction, True)\n",
    "                borders.append(square)\n",
    "    return borders\n",
    "\n",
    "\n",
    "def calculate_part2_cost():\n",
    "    grid = create_grid()\n",
    "    regions = collect_regions(grid)\n",
    "    total_cost = 0\n",
    "    row_borders = ('up', 'down')\n",
    "    col_borders = ('left', 'right')\n",
    "    for region in regions:\n",
    "        area = len(region)\n",
    "        borders = mark_borders(region, grid)\n",
    "\n",
    "        border_wall_at: dict[str, dict[int, set[int]]] = {\n",
    "            # For each row, store the column number.\n",
    "            'up': {},\n",
    "            'down': {},\n",
    "            # For each column, store the row number.\n",
    "            'left': {},\n",
    "            'right': {},\n",
    "        }\n",
    "        for border in borders:\n",
    "            row = border.row\n",
    "            col = border.col\n",
    "            for direction in row_borders:\n",
    "                if getattr(border.borders, direction):\n",
    "                    if row in border_wall_at[direction]:\n",
    "                        border_wall_at[direction][row].add(col)\n",
    "                    else:\n",
    "                        border_wall_at[direction][row] = {col}\n",
    "            for direction in col_borders:\n",
    "                if getattr(border.borders, direction):\n",
    "                    if col in border_wall_at[direction]:\n",
    "                        border_wall_at[direction][col].add(row)\n",
    "                    else:\n",
    "                        border_wall_at[direction][col] = {row}\n",
    "\n",
    "        sides = 0\n",
    "        for direction in border_wall_at:\n",
    "            for pivot in border_wall_at[direction]:\n",
    "                sorted_coordinates = sorted(border_wall_at[direction][pivot])\n",
    "                contiguous = 1\n",
    "                previous = sorted_coordinates[0]\n",
    "                for value in sorted_coordinates[1:]:\n",
    "                    if value != previous + 1:\n",
    "                        contiguous += 1\n",
    "                    previous = value\n",
    "                sides += contiguous\n",
    "\n",
    "        total_cost += sides * area\n",
    "\n",
    "    print(total_cost)\n",
    "\n",
    "\n",
    "calculate_part2_cost()"
   ],
   "id": "fb8a458f11cedbd2",
   "outputs": [
    {
     "name": "stdout",
     "output_type": "stream",
     "text": [
      "821372\n"
     ]
    }
   ],
   "execution_count": 10
  }
 ],
 "metadata": {
  "kernelspec": {
   "display_name": "Python 3",
   "language": "python",
   "name": "python3"
  },
  "language_info": {
   "codemirror_mode": {
    "name": "ipython",
    "version": 2
   },
   "file_extension": ".py",
   "mimetype": "text/x-python",
   "name": "python",
   "nbconvert_exporter": "python",
   "pygments_lexer": "ipython2",
   "version": "2.7.6"
  }
 },
 "nbformat": 4,
 "nbformat_minor": 5
}
