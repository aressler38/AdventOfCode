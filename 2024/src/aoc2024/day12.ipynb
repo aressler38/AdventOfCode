{
 "cells": [
  {
   "cell_type": "code",
   "id": "initial_id",
   "metadata": {
    "collapsed": true,
    "ExecuteTime": {
     "end_time": "2024-12-14T01:16:39.011194Z",
     "start_time": "2024-12-14T01:16:39.006473Z"
    }
   },
   "source": [
    "import functools\n",
    "from dataclasses import dataclass\n",
    "\n",
    "\n",
    "def load_input() -> list[list[str]]:\n",
    "    with open(\"../../data/day12-input.txt\") as f:\n",
    "        grid = []\n",
    "        for line in f.readlines():\n",
    "            line = line.strip()\n",
    "            row = []\n",
    "            for char in line:\n",
    "                row.append(char)\n",
    "            grid.append(row)\n",
    "    return grid\n",
    "\n",
    "\n",
    "@functools.lru_cache(maxsize=None)\n",
    "def move_to(row, col, direction) -> tuple[int, int]:\n",
    "    dirs = {\n",
    "        'up': lambda i, j: (i - 1, j),\n",
    "        'down': lambda i, j: (i + 1, j),\n",
    "        'left': lambda i, j: (i, j - 1),\n",
    "        'right': lambda i, j: (i, j + 1),\n",
    "    }\n",
    "    return dirs[direction](row, col)\n",
    "\n"
   ],
   "outputs": [],
   "execution_count": 1
  },
  {
   "metadata": {
    "ExecuteTime": {
     "end_time": "2024-12-14T01:16:39.017468Z",
     "start_time": "2024-12-14T01:16:39.014410Z"
    }
   },
   "cell_type": "code",
   "source": [
    "@dataclass()\n",
    "class GridSquare:\n",
    "    row: int\n",
    "    col: int\n",
    "    value: str\n",
    "    marked: bool = False\n",
    "\n",
    "    def __hash__(self) -> int:\n",
    "        return hash((self.row, self.col, self.value))\n"
   ],
   "id": "80aec62f47a9a7",
   "outputs": [],
   "execution_count": 2
  },
  {
   "metadata": {
    "ExecuteTime": {
     "end_time": "2024-12-14T01:16:39.135274Z",
     "start_time": "2024-12-14T01:16:39.131961Z"
    }
   },
   "cell_type": "code",
   "source": [
    "def create_grid():\n",
    "    raw_grid = load_input()\n",
    "    grid = []\n",
    "    for i, row in enumerate(raw_grid):\n",
    "        grid_row = []\n",
    "        for j, col in enumerate(row):\n",
    "            grid_row.append(GridSquare(i, j, col, False))\n",
    "        grid.append(grid_row)\n",
    "    return grid\n",
    "\n",
    "\n",
    "def clear_grid_markers(grid: list[list[GridSquare]]) -> None:\n",
    "    for row in grid:\n",
    "        for square in row:\n",
    "            square.marked = False\n"
   ],
   "id": "391a30bfee750359",
   "outputs": [],
   "execution_count": 3
  },
  {
   "metadata": {
    "ExecuteTime": {
     "end_time": "2024-12-14T01:17:06.466420Z",
     "start_time": "2024-12-14T01:17:06.390328Z"
    }
   },
   "cell_type": "code",
   "source": [
    "def collect_region(current_square: GridSquare, value_to_match: str, grid: list[list[GridSquare]]) -> None:\n",
    "    collection = set()\n",
    "    if current_square.value != value_to_match:\n",
    "        return collection\n",
    "    else:\n",
    "        current_square.marked = True\n",
    "        collection.add(current_square)\n",
    "        for direction in ('up', 'down', 'left', 'right'):\n",
    "            next_row, next_col = move_to(current_square.row, current_square.col, direction)\n",
    "            if -1 < next_row < len(grid) and -1 < next_col < len(grid[0]):\n",
    "                next_square = grid[next_row][next_col]\n",
    "                if next_square.marked:\n",
    "                    continue\n",
    "                else:\n",
    "                    collection = collection | collect_region(next_square, value_to_match, grid)\n",
    "    return collection\n",
    "\n",
    "\n",
    "def collect_regions(grid: list[list[GridSquare]]) -> list[set[GridSquare]]:\n",
    "    regions = []\n",
    "    for i, row in enumerate(grid):\n",
    "        for j, square in enumerate(row):\n",
    "            if square.marked:\n",
    "                continue\n",
    "            region = collect_region(square, square.value, grid)\n",
    "            if region:\n",
    "                regions.append(region)\n",
    "    return regions\n",
    "\n",
    "def count_borders(square: GridSquare, grid: list[list[GridSquare]]) -> int:\n",
    "    borders = 0\n",
    "    for direction in ('up', 'down', 'left', 'right'):\n",
    "        next_row, next_col = move_to(square.row, square.col, direction)\n",
    "        if -1 < next_row < len(grid) and -1 < next_col < len(grid[0]):\n",
    "            next_square = grid[next_row][next_col]\n",
    "            if next_square.value != square.value:\n",
    "                borders += 1\n",
    "        else:\n",
    "            borders += 1\n",
    "    return borders\n",
    "\n",
    "\n",
    "\n",
    "def calculate_cost(region: set[GridSquare], grid: list[list[GridSquare]]) -> int:\n",
    "    perimeter = 0\n",
    "    area = 0\n",
    "    for square in region:\n",
    "        area += 1\n",
    "        perimeter += count_borders(square, grid)\n",
    "    return area * perimeter\n",
    "\n",
    "\n",
    "grid = create_grid()\n",
    "regions = collect_regions(grid)\n",
    "clear_grid_markers(regions)\n",
    "total_cost = 0\n",
    "for region in regions:\n",
    "    total_cost += calculate_cost(region, grid)\n",
    "print(total_cost)"
   ],
   "id": "423cf8f3aed82eb2",
   "outputs": [
    {
     "name": "stdout",
     "output_type": "stream",
     "text": [
      "1375476\n"
     ]
    }
   ],
   "execution_count": 6
  },
  {
   "metadata": {},
   "cell_type": "markdown",
   "source": "### Part 2",
   "id": "3a438162caa2e65d"
  },
  {
   "metadata": {
    "ExecuteTime": {
     "end_time": "2024-12-14T01:16:39.353458900Z",
     "start_time": "2024-12-13T20:05:55.636363Z"
    }
   },
   "cell_type": "code",
   "source": "",
   "id": "43b465bf56d80f3d",
   "outputs": [],
   "execution_count": 16
  }
 ],
 "metadata": {
  "kernelspec": {
   "display_name": "Python 3",
   "language": "python",
   "name": "python3"
  },
  "language_info": {
   "codemirror_mode": {
    "name": "ipython",
    "version": 2
   },
   "file_extension": ".py",
   "mimetype": "text/x-python",
   "name": "python",
   "nbconvert_exporter": "python",
   "pygments_lexer": "ipython2",
   "version": "2.7.6"
  }
 },
 "nbformat": 4,
 "nbformat_minor": 5
}
