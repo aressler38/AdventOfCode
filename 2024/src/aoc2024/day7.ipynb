{
 "cells": [
  {
   "metadata": {
    "ExecuteTime": {
     "end_time": "2024-12-07T06:18:07.838857Z",
     "start_time": "2024-12-07T06:18:07.835349Z"
    }
   },
   "cell_type": "code",
   "source": "import itertools",
   "id": "29a4ee8cfe298f00",
   "outputs": [],
   "execution_count": 1
  },
  {
   "metadata": {
    "collapsed": true,
    "ExecuteTime": {
     "end_time": "2024-12-07T06:18:10.069248Z",
     "start_time": "2024-12-07T06:18:10.062715Z"
    }
   },
   "cell_type": "code",
   "source": [
    "problem_input = []\n",
    "with open ('../../data/day07-input.txt') as f:\n",
    "    for line in f.readlines():\n",
    "        row = []\n",
    "        parts = line.strip().split(':')\n",
    "        row.append(int(parts[0]))\n",
    "        for num in parts[1].strip().split(' '):\n",
    "            row.append(int(num))\n",
    "        problem_input.append(row)"
   ],
   "id": "initial_id",
   "outputs": [],
   "execution_count": 2
  },
  {
   "metadata": {
    "ExecuteTime": {
     "end_time": "2024-12-07T06:13:52.784Z",
     "start_time": "2024-12-07T06:13:52.780964Z"
    }
   },
   "cell_type": "code",
   "source": [
    "def multiply(a: int, b: int) -> int:\n",
    "    return a * b\n",
    "\n",
    "def add(a: int, b: int) -> int:\n",
    "    return a + b\n"
   ],
   "id": "c7241d0455f5e376",
   "outputs": [],
   "execution_count": 3
  },
  {
   "metadata": {
    "ExecuteTime": {
     "end_time": "2024-12-07T06:23:00.482327Z",
     "start_time": "2024-12-07T06:23:00.174377Z"
    }
   },
   "cell_type": "code",
   "source": [
    "sum = 0\n",
    "\n",
    "for row in problem_input:\n",
    "    expected = row[0]\n",
    "    slice = row[1:]\n",
    "    result = slice[0]\n",
    "    for operators in itertools.product([add, multiply], repeat=len(slice)-1):\n",
    "        result = slice[0]\n",
    "        for b, operator in zip(slice[1:], operators):\n",
    "            result = operator(result, b)\n",
    "            if expected < result:\n",
    "                break\n",
    "        if result == expected:\n",
    "            #print(\"OK: %s\" % [ '*' if m is multiply else '+' for m in operators])\n",
    "            sum += expected\n",
    "            break\n",
    "\n",
    "print(sum)"
   ],
   "id": "60377feb0278101c",
   "outputs": [
    {
     "name": "stdout",
     "output_type": "stream",
     "text": [
      "1153997401072\n"
     ]
    }
   ],
   "execution_count": 7
  },
  {
   "metadata": {
    "ExecuteTime": {
     "end_time": "2024-12-07T06:24:33.293458Z",
     "start_time": "2024-12-07T06:24:33.289943Z"
    }
   },
   "cell_type": "code",
   "source": [
    "def concat(a: int, b: int) -> int:\n",
    "    return int(str(a) + str(b))"
   ],
   "id": "d20c4ca915b1cc95",
   "outputs": [],
   "execution_count": 8
  },
  {
   "metadata": {
    "ExecuteTime": {
     "end_time": "2024-12-07T06:25:35.430127Z",
     "start_time": "2024-12-07T06:25:15.933734Z"
    }
   },
   "cell_type": "code",
   "source": [
    "sum = 0\n",
    "for row in problem_input:\n",
    "    expected = row[0]\n",
    "    slice = row[1:]\n",
    "    result = slice[0]\n",
    "    for operators in itertools.product([add, multiply, concat], repeat=len(slice)-1):\n",
    "        result = slice[0]\n",
    "        for b, operator in zip(slice[1:], operators):\n",
    "            result = operator(result, b)\n",
    "            if expected < result:\n",
    "                break\n",
    "        if result == expected:\n",
    "            #print(\"OK: %s\" % [ '*' if m is multiply else '+' for m in operators])\n",
    "            sum += expected\n",
    "            break\n",
    "\n",
    "print(sum)"
   ],
   "id": "1ba4a50d23825e6f",
   "outputs": [
    {
     "name": "stdout",
     "output_type": "stream",
     "text": [
      "97902809384118\n"
     ]
    }
   ],
   "execution_count": 9
  },
  {
   "metadata": {},
   "cell_type": "code",
   "outputs": [],
   "execution_count": null,
   "source": "",
   "id": "274ba4858b00f455"
  }
 ],
 "metadata": {
  "kernelspec": {
   "display_name": "Python 3",
   "language": "python",
   "name": "python3"
  },
  "language_info": {
   "codemirror_mode": {
    "name": "ipython",
    "version": 2
   },
   "file_extension": ".py",
   "mimetype": "text/x-python",
   "name": "python",
   "nbconvert_exporter": "python",
   "pygments_lexer": "ipython2",
   "version": "2.7.6"
  }
 },
 "nbformat": 4,
 "nbformat_minor": 5
}
