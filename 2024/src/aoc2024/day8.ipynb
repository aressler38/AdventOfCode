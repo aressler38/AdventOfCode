{
 "cells": [
  {
   "cell_type": "code",
   "id": "initial_id",
   "metadata": {
    "collapsed": true,
    "ExecuteTime": {
     "end_time": "2024-12-08T07:27:54.610948Z",
     "start_time": "2024-12-08T07:27:54.607703Z"
    }
   },
   "source": "import itertools",
   "outputs": [],
   "execution_count": 1
  },
  {
   "metadata": {
    "ExecuteTime": {
     "end_time": "2024-12-08T07:27:54.624238Z",
     "start_time": "2024-12-08T07:27:54.613602Z"
    }
   },
   "cell_type": "code",
   "source": [
    "class Antenna:\n",
    "    def __init__(self, x, y, frequency):\n",
    "        self.x = x\n",
    "        self.y = y\n",
    "        self.frequency = frequency\n",
    "        self.position = (x,y)\n",
    "    def __repr__(self):\n",
    "        return \"Antenna({}, {}, {})\".format(self.x, self.y, self.frequency)"
   ],
   "id": "1bbc0e995cece3ef",
   "outputs": [],
   "execution_count": 2
  },
  {
   "metadata": {
    "ExecuteTime": {
     "end_time": "2024-12-08T07:27:54.722487Z",
     "start_time": "2024-12-08T07:27:54.718083Z"
    }
   },
   "cell_type": "code",
   "source": [
    "PROBLEM_INPUT = []\n",
    "ANTENNAS = []\n",
    "with open('../../data/day08-input.txt') as f:\n",
    "    x = 0\n",
    "    y = 0\n",
    "    for line in f.readlines():\n",
    "        row = []\n",
    "        y = 0\n",
    "        for c in line.strip():\n",
    "            if c == '.':\n",
    "                row.append(None)\n",
    "            else:\n",
    "                antenna = Antenna(x, y, c)\n",
    "                ANTENNAS.append(antenna)\n",
    "                row.append(antenna)\n",
    "            y += 1\n",
    "        x += 1\n",
    "        PROBLEM_INPUT.append(row)\n",
    "del row,line, antenna,x,y,c,f"
   ],
   "id": "aee00a4f4f76faf6",
   "outputs": [],
   "execution_count": 3
  },
  {
   "metadata": {
    "ExecuteTime": {
     "end_time": "2024-12-08T07:27:54.739342Z",
     "start_time": "2024-12-08T07:27:54.735785Z"
    }
   },
   "cell_type": "code",
   "source": [
    "DIMENSIONS = len(PROBLEM_INPUT), len(PROBLEM_INPUT[0])\n",
    "ANTENNA_BY_FREQUENCY = {}\n",
    "for antenna in ANTENNAS:\n",
    "    if antenna.frequency not in ANTENNA_BY_FREQUENCY:\n",
    "        ANTENNA_BY_FREQUENCY[antenna.frequency] = []\n",
    "    ANTENNA_BY_FREQUENCY[antenna.frequency].append(antenna)\n"
   ],
   "id": "46ed8a21446d03d7",
   "outputs": [],
   "execution_count": 4
  },
  {
   "metadata": {
    "ExecuteTime": {
     "end_time": "2024-12-08T07:39:58.184803Z",
     "start_time": "2024-12-08T07:39:58.179614Z"
    }
   },
   "cell_type": "code",
   "source": [
    "ANTINODES = set()\n",
    "for frequency, antennas in ANTENNA_BY_FREQUENCY.items():\n",
    "\n",
    "    combinations = itertools.combinations(antennas, 2)\n",
    "    for a1, a2 in combinations:\n",
    "        vector = (a1.x - a2.x), (a1.y - a2.y)\n",
    "        antinode_a1 = (a1.x + vector[0], a1.y + vector[1])\n",
    "        antinode_a2 = (a2.x - vector[0], a2.y - vector[1])\n",
    "\n",
    "        if -1 < antinode_a1[0] < DIMENSIONS[0] and -1 < antinode_a1[1] < DIMENSIONS[1]:\n",
    "            ANTINODES.add(antinode_a1)\n",
    "        if -1 < antinode_a2[0] < DIMENSIONS[0] and -1 < antinode_a2[1] < DIMENSIONS[1]:\n",
    "            ANTINODES.add(antinode_a2)\n",
    "\n",
    "\n",
    "\n",
    "\n",
    "len(ANTINODES)\n"
   ],
   "id": "153b12349fc0d92a",
   "outputs": [
    {
     "data": {
      "text/plain": [
       "376"
      ]
     },
     "execution_count": 10,
     "metadata": {},
     "output_type": "execute_result"
    }
   ],
   "execution_count": 10
  },
  {
   "metadata": {
    "ExecuteTime": {
     "end_time": "2024-12-08T07:31:14.094998Z",
     "start_time": "2024-12-08T07:31:14.090488Z"
    }
   },
   "cell_type": "code",
   "source": [
    "data = ''\n",
    "i = 0\n",
    "for row in PROBLEM_INPUT:\n",
    "    j = 0\n",
    "    for column in row:\n",
    "        if (i,j) in ANTINODES:\n",
    "            data += '@'\n",
    "        else:\n",
    "            if column is None:\n",
    "                data += str('.')\n",
    "            elif isinstance(column, Antenna):\n",
    "                data += str(column.frequency)\n",
    "            else:\n",
    "                data += str(column)\n",
    "        j += 1\n",
    "    i += 1\n",
    "\n",
    "    data += '\\n'\n",
    "\n",
    "with open('../../data/day08-output.txt', 'w') as f:\n",
    "    f.write(data)\n"
   ],
   "id": "57837126a40c0f3e",
   "outputs": [],
   "execution_count": 8
  },
  {
   "metadata": {
    "ExecuteTime": {
     "end_time": "2024-12-08T07:27:54.778108Z",
     "start_time": "2024-12-08T07:27:54.776278Z"
    }
   },
   "cell_type": "code",
   "source": "",
   "id": "ac8e18d065a6a389",
   "outputs": [],
   "execution_count": null
  }
 ],
 "metadata": {
  "kernelspec": {
   "display_name": "Python 3",
   "language": "python",
   "name": "python3"
  },
  "language_info": {
   "codemirror_mode": {
    "name": "ipython",
    "version": 2
   },
   "file_extension": ".py",
   "mimetype": "text/x-python",
   "name": "python",
   "nbconvert_exporter": "python",
   "pygments_lexer": "ipython2",
   "version": "2.7.6"
  }
 },
 "nbformat": 4,
 "nbformat_minor": 5
}
