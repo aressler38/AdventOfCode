{
 "cells": [
  {
   "cell_type": "code",
   "id": "initial_id",
   "metadata": {
    "collapsed": true,
    "ExecuteTime": {
     "end_time": "2024-12-16T05:05:01.764906Z",
     "start_time": "2024-12-16T05:05:01.744537Z"
    }
   },
   "source": [
    "from functools import reduce\n",
    "from PIL import Image, ImageDraw\n",
    "from enum import Enum\n",
    "\n"
   ],
   "outputs": [],
   "execution_count": 2
  },
  {
   "metadata": {
    "ExecuteTime": {
     "end_time": "2024-12-16T05:05:01.774671Z",
     "start_time": "2024-12-16T05:05:01.767094Z"
    }
   },
   "cell_type": "code",
   "source": [
    "class CardinalDirection(Enum):\n",
    "    UP = 0\n",
    "    LEFT = 1\n",
    "    DOWN = 2\n",
    "    RIGHT = 3\n",
    "\n",
    "class GridSquare:\n",
    "    def __init__(self, position: tuple[int, int]):\n",
    "        self.position = position\n",
    "\n",
    "class Obstacle(GridSquare):\n",
    "    pass\n",
    "\n",
    "class Box(Obstacle):\n",
    "    def __init__(self, x, y):\n",
    "        super().__init__((x, y))\n",
    "\n",
    "class Wall(Obstacle):\n",
    "    def __init__(self, x, y):\n",
    "        super().__init__((x, y))\n",
    "\n",
    "class Robot(GridSquare):\n",
    "    def __init__(self, x: int, y: int, commands: list[CardinalDirection]):\n",
    "        super().__init__((x,y))\n",
    "        self.commands = commands\n",
    "        self.command_index = 0\n",
    "\n",
    "    def __repr__(self):\n",
    "        return f'Robot(p={self.position})'\n",
    "\n",
    "\n",
    "class Grid:\n",
    "    MOVEMENT = {\n",
    "        CardinalDirection.UP: lambda i, j: (i - 1, j),\n",
    "        CardinalDirection.DOWN: lambda i, j: (i + 1, j),\n",
    "        CardinalDirection.LEFT: lambda i, j: (i, j - 1),\n",
    "        CardinalDirection.RIGHT: lambda i, j: (i, j + 1),\n",
    "    }\n",
    "    def __init__(self, data: list[list[GridSquare]], robot: Robot):\n",
    "        self.width = len(data[0])\n",
    "        self.height = len(data)\n",
    "        self.members: dict[tuple[int,int], list[GridSquare]] = {}\n",
    "        self.data = data\n",
    "        self.robot = robot\n",
    "        for row in data:\n",
    "            for cell in row:\n",
    "                self.members[cell.position] = cell\n",
    "\n",
    "def load_input():\n",
    "    robot = None\n",
    "    commands = []\n",
    "    with open(\"../../data/day15-input.txt\") as f:\n",
    "        sections = f.read().split('\\n\\n')\n",
    "        assert 2 == len(sections)\n",
    "\n",
    "        for instruction in sections[1].strip().replace('\\n',''):\n",
    "            if instruction == '^':\n",
    "                commands.append(CardinalDirection.UP)\n",
    "            elif instruction == '<':\n",
    "                commands.append(CardinalDirection.LEFT)\n",
    "            elif instruction == 'v':\n",
    "                commands.append(CardinalDirection.DOWN)\n",
    "            elif instruction == '>':\n",
    "                commands.append(CardinalDirection.RIGHT)\n",
    "            else:\n",
    "                raise ValueError(\"Unrecognized instruction: \" + instruction)\n",
    "\n",
    "        data = []\n",
    "        for i,line in enumerate(sections[0].split('\\n')):\n",
    "            row = []\n",
    "            for j, c in enumerate(line):\n",
    "                if c == '#':\n",
    "                    row.append(Wall(i, j))\n",
    "                elif c == 'O':\n",
    "                    row.append(Box(i, j))\n",
    "                elif c == '@':\n",
    "                    if robot is not None:\n",
    "                        raise ValueError('Robot already loaded')\n",
    "                    robot = Robot(i, j, commands)\n",
    "                    row.append(robot)\n",
    "                elif c == '.':\n",
    "                    row.append(GridSquare((i,j)))\n",
    "                else:\n",
    "                    raise ValueError(\"Unhandled: \" + c)\n",
    "            data.append(row)\n",
    "        grid = Grid(data, robot)\n",
    "\n",
    "        return grid\n"
   ],
   "id": "80b7bda41b63e4c7",
   "outputs": [],
   "execution_count": 3
  },
  {
   "metadata": {
    "ExecuteTime": {
     "end_time": "2024-12-16T05:05:01.790035Z",
     "start_time": "2024-12-16T05:05:01.784729Z"
    }
   },
   "cell_type": "code",
   "source": "grid = load_input()",
   "id": "14b96e19f33b2ca",
   "outputs": [],
   "execution_count": 4
  },
  {
   "metadata": {
    "ExecuteTime": {
     "end_time": "2024-12-16T05:05:01.796804Z",
     "start_time": "2024-12-16T05:05:01.795135Z"
    }
   },
   "cell_type": "code",
   "source": "",
   "id": "a09b969e2c70ac8b",
   "outputs": [],
   "execution_count": null
  },
  {
   "metadata": {
    "ExecuteTime": {
     "end_time": "2024-12-16T05:05:01.804784Z",
     "start_time": "2024-12-16T05:05:01.802432Z"
    }
   },
   "cell_type": "code",
   "source": "",
   "id": "31c3522bb550e025",
   "outputs": [],
   "execution_count": null
  }
 ],
 "metadata": {
  "kernelspec": {
   "display_name": "Python 3",
   "language": "python",
   "name": "python3"
  },
  "language_info": {
   "codemirror_mode": {
    "name": "ipython",
    "version": 2
   },
   "file_extension": ".py",
   "mimetype": "text/x-python",
   "name": "python",
   "nbconvert_exporter": "python",
   "pygments_lexer": "ipython2",
   "version": "2.7.6"
  }
 },
 "nbformat": 4,
 "nbformat_minor": 5
}
