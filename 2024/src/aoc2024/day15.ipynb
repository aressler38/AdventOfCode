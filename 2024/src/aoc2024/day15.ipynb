{
 "cells": [
  {
   "cell_type": "code",
   "id": "initial_id",
   "metadata": {
    "collapsed": true,
    "ExecuteTime": {
     "end_time": "2024-12-16T14:33:26.015028Z",
     "start_time": "2024-12-16T14:33:26.011598Z"
    }
   },
   "source": [
    "from PIL import Image, ImageDraw\n",
    "from enum import Enum"
   ],
   "outputs": [],
   "execution_count": 22
  },
  {
   "metadata": {
    "ExecuteTime": {
     "end_time": "2024-12-16T14:33:26.066989Z",
     "start_time": "2024-12-16T14:33:26.026827Z"
    }
   },
   "cell_type": "code",
   "source": [
    "class CardinalDirection(Enum):\n",
    "    UP = 0\n",
    "    LEFT = 1\n",
    "    DOWN = 2\n",
    "    RIGHT = 3\n",
    "\n",
    "\n",
    "class GridObject:\n",
    "    def __init__(self, position: tuple[int, int]):\n",
    "        self.position = position\n",
    "\n",
    "    def __repr__(self):\n",
    "        return f'{self.__class__.__name__}({self.position})'\n",
    "\n",
    "\n",
    "class EmptySquare(GridObject):\n",
    "    def __init__(self, position: tuple[int, int]):\n",
    "        super().__init__(position)\n",
    "\n",
    "\n",
    "class Obstacle(GridObject):\n",
    "    def __init__(self, position: tuple[int, int]):\n",
    "        super().__init__(position)\n",
    "\n",
    "\n",
    "class Box(Obstacle):\n",
    "    def __init__(self, x, y):\n",
    "        super().__init__((x, y))\n",
    "\n",
    "\n",
    "class Wall(Obstacle):\n",
    "    def __init__(self, x, y):\n",
    "        super().__init__((x, y))\n",
    "\n",
    "\n",
    "class Robot(GridObject):\n",
    "    def __init__(self, x: int, y: int, commands: list[CardinalDirection]):\n",
    "        super().__init__((x, y))\n",
    "        self.commands = commands\n",
    "\n",
    "    def __repr__(self):\n",
    "        return f'Robot(p={self.position})'\n",
    "\n",
    "\n",
    "class Grid:\n",
    "    MOVEMENT = {\n",
    "        CardinalDirection.UP: lambda i, j: (i - 1, j),\n",
    "        CardinalDirection.DOWN: lambda i, j: (i + 1, j),\n",
    "        CardinalDirection.LEFT: lambda i, j: (i, j - 1),\n",
    "        CardinalDirection.RIGHT: lambda i, j: (i, j + 1),\n",
    "    }\n",
    "\n",
    "    def __init__(self, data: list[list[GridObject]], robot: Robot):\n",
    "        self.width = len(data[0])\n",
    "        self.height = len(data)\n",
    "        self.boxes: list[Box] = []\n",
    "        self.data = data\n",
    "        self.robot = robot\n",
    "        self.debug = False\n",
    "        for row in data:\n",
    "            for grid_object in row:\n",
    "                if isinstance(grid_object, Box):\n",
    "                    self.boxes.append(grid_object)\n",
    "\n",
    "    def move_object(self, direction: CardinalDirection, from_position: tuple[int, int]) -> int:\n",
    "        \"\"\"Return the amount of objects moved\"\"\"\n",
    "        try:\n",
    "            grid_object = self.data[from_position[0]][from_position[1]]\n",
    "            next_position = Grid.MOVEMENT[direction](*from_position)\n",
    "            next_object = self.data[next_position[0]][next_position[1]]\n",
    "        except IndexError:\n",
    "            return 0\n",
    "\n",
    "        objects_moved = 0\n",
    "        if isinstance(next_object, EmptySquare):\n",
    "            self.data[from_position[0]][from_position[1]] = next_object\n",
    "            self.data[next_position[0]][next_position[1]] = grid_object\n",
    "            grid_object.position = next_position\n",
    "            next_object.position = from_position\n",
    "            objects_moved += 1\n",
    "        elif isinstance(next_object, Box):\n",
    "            objects_moved += self.move_object(direction, next_position)\n",
    "            if objects_moved > 0:\n",
    "                objects_moved += self.move_object(direction, from_position)\n",
    "        elif isinstance(next_object, Wall):\n",
    "            return 0\n",
    "        else:\n",
    "            raise ValueError(f'Unexpected object type: {type(next_object)}')\n",
    "        return objects_moved\n",
    "\n",
    "    def run_robot(self):\n",
    "        i = 0\n",
    "        if self.debug:\n",
    "            img = self.visualize(12)\n",
    "            img.save(f\"../../data/day15/{i:06}.png\")\n",
    "        for i, direction in enumerate(self.robot.commands):\n",
    "            self.move_object(direction, self.robot.position)\n",
    "            if self.debug:\n",
    "                img = self.visualize(12)\n",
    "                img.save(f\"../../data/day15/{(i+1):06}.png\")\n",
    "\n",
    "    def visualize(self, scale=10):\n",
    "        img = Image.new('RGB', (scale * self.width, scale * self.height), 'black')\n",
    "        pixels = img.load()\n",
    "\n",
    "        for i, row in enumerate(self.data):\n",
    "            for j, grid_object in enumerate(row):\n",
    "                color = (125, 125, 125)\n",
    "                if isinstance(grid_object, EmptySquare):\n",
    "                    color = (255, 255, 255)\n",
    "                elif isinstance(grid_object, Box):\n",
    "                    color = (0, 255, 0)\n",
    "                elif isinstance(grid_object, Robot):\n",
    "                    color = (255, 0, 0)\n",
    "                elif isinstance(grid_object, Wall):\n",
    "                    color = (0, 0, 255)\n",
    "                for px_i in range(scale):\n",
    "                    for px_j in range(scale):\n",
    "                        pixels[scale * j + px_j, scale * i + px_i] = color\n",
    "        return img\n",
    "\n",
    "\n",
    "def load_input():\n",
    "    robot = None\n",
    "    commands = []\n",
    "    with open(\"../../data/day15-input.txt\") as f:\n",
    "        sections = f.read().split('\\n\\n')\n",
    "        assert 2 == len(sections)\n",
    "\n",
    "        for instruction in sections[1].strip().replace('\\n', ''):\n",
    "            if instruction == '^':\n",
    "                commands.append(CardinalDirection.UP)\n",
    "            elif instruction == '<':\n",
    "                commands.append(CardinalDirection.LEFT)\n",
    "            elif instruction == 'v':\n",
    "                commands.append(CardinalDirection.DOWN)\n",
    "            elif instruction == '>':\n",
    "                commands.append(CardinalDirection.RIGHT)\n",
    "            else:\n",
    "                raise ValueError(\"Unrecognized instruction: \" + instruction)\n",
    "\n",
    "        data = []\n",
    "        for i, line in enumerate(sections[0].split('\\n')):\n",
    "            row = []\n",
    "            for j, c in enumerate(line):\n",
    "                if c == '#':\n",
    "                    row.append(Wall(i, j))\n",
    "                elif c == 'O':\n",
    "                    row.append(Box(i, j))\n",
    "                elif c == '@':\n",
    "                    if robot is not None:\n",
    "                        raise ValueError('Robot already loaded')\n",
    "                    robot = Robot(i, j, commands)\n",
    "                    row.append(robot)\n",
    "                elif c == '.':\n",
    "                    row.append(EmptySquare((i, j)))\n",
    "                else:\n",
    "                    raise ValueError(\"Unhandled: \" + c)\n",
    "            data.append(row)\n",
    "        grid = Grid(data, robot)\n",
    "\n",
    "        return grid\n",
    "\n",
    "\n",
    "grid = load_input()\n",
    "grid.debug = False\n",
    "grid.run_robot()"
   ],
   "id": "80b7bda41b63e4c7",
   "outputs": [],
   "execution_count": 23
  },
  {
   "metadata": {
    "ExecuteTime": {
     "end_time": "2024-12-16T14:33:26.072074Z",
     "start_time": "2024-12-16T14:33:26.069996Z"
    }
   },
   "cell_type": "code",
   "source": [
    "\n",
    "# Somewhere between  1437721 < 1447300 < X < 1484326"
   ],
   "id": "e4080ff6f20c07d6",
   "outputs": [],
   "execution_count": 24
  },
  {
   "metadata": {
    "ExecuteTime": {
     "end_time": "2024-12-16T14:33:26.117112Z",
     "start_time": "2024-12-16T14:33:26.077181Z"
    }
   },
   "cell_type": "code",
   "source": "grid.visualize().save(\"../../data/day15/output.png\")",
   "id": "1c457a20fffbaede",
   "outputs": [],
   "execution_count": 25
  },
  {
   "metadata": {
    "ExecuteTime": {
     "end_time": "2024-12-16T14:33:26.125010Z",
     "start_time": "2024-12-16T14:33:26.122112Z"
    }
   },
   "cell_type": "code",
   "source": [
    "box_sum = 0\n",
    "for i, row in enumerate(grid.data):\n",
    "    for j, grid_object in enumerate(row):\n",
    "        if isinstance(grid_object, Box):\n",
    "            box_sum += 100 * i +j\n",
    "print(box_sum)\n"
   ],
   "id": "29da103c1a57ea2f",
   "outputs": [
    {
     "name": "stdout",
     "output_type": "stream",
     "text": [
      "1479679\n"
     ]
    }
   ],
   "execution_count": 26
  },
  {
   "metadata": {
    "ExecuteTime": {
     "end_time": "2024-12-16T14:33:26.135603Z",
     "start_time": "2024-12-16T14:33:26.133785Z"
    }
   },
   "cell_type": "code",
   "source": "",
   "id": "400febf75ea65eae",
   "outputs": [],
   "execution_count": null
  }
 ],
 "metadata": {
  "kernelspec": {
   "display_name": "Python 3",
   "language": "python",
   "name": "python3"
  },
  "language_info": {
   "codemirror_mode": {
    "name": "ipython",
    "version": 2
   },
   "file_extension": ".py",
   "mimetype": "text/x-python",
   "name": "python",
   "nbconvert_exporter": "python",
   "pygments_lexer": "ipython2",
   "version": "2.7.6"
  }
 },
 "nbformat": 4,
 "nbformat_minor": 5
}
