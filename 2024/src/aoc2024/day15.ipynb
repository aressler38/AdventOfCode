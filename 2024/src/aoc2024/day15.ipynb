{
 "cells": [
  {
   "cell_type": "code",
   "id": "initial_id",
   "metadata": {
    "collapsed": true,
    "ExecuteTime": {
     "end_time": "2024-12-16T07:29:59.871369Z",
     "start_time": "2024-12-16T07:29:59.853954Z"
    }
   },
   "source": [
    "from PIL import Image, ImageDraw\n",
    "from enum import Enum\n",
    "\n"
   ],
   "outputs": [],
   "execution_count": 1
  },
  {
   "metadata": {
    "ExecuteTime": {
     "end_time": "2024-12-16T07:30:25.484929Z",
     "start_time": "2024-12-16T07:30:06.362443Z"
    }
   },
   "cell_type": "code",
   "source": [
    "class CardinalDirection(Enum):\n",
    "    UP = 0\n",
    "    LEFT = 1\n",
    "    DOWN = 2\n",
    "    RIGHT = 3\n",
    "\n",
    "\n",
    "class GridObject:\n",
    "    def __init__(self, position: tuple[int, int]):\n",
    "        self.position = position\n",
    "\n",
    "    def __repr__(self):\n",
    "        return f'{self.__class__.__name__}({self.position})'\n",
    "\n",
    "\n",
    "class EmptySquare(GridObject):\n",
    "    def __init__(self, position: tuple[int, int]):\n",
    "        super().__init__(position)\n",
    "\n",
    "\n",
    "class Obstacle(GridObject):\n",
    "    def __init__(self, position: tuple[int, int]):\n",
    "        super().__init__(position)\n",
    "\n",
    "\n",
    "class Box(Obstacle):\n",
    "    def __init__(self, x, y):\n",
    "        super().__init__((x, y))\n",
    "\n",
    "\n",
    "class Wall(Obstacle):\n",
    "    def __init__(self, x, y):\n",
    "        super().__init__((x, y))\n",
    "\n",
    "\n",
    "class Robot(GridObject):\n",
    "    def __init__(self, x: int, y: int, commands: list[CardinalDirection]):\n",
    "        super().__init__((x, y))\n",
    "        self.commands = commands\n",
    "\n",
    "    def __repr__(self):\n",
    "        return f'Robot(p={self.position})'\n",
    "\n",
    "\n",
    "class Grid:\n",
    "    MOVEMENT = {\n",
    "        CardinalDirection.UP: lambda i, j: (i - 1, j),\n",
    "        CardinalDirection.DOWN: lambda i, j: (i + 1, j),\n",
    "        CardinalDirection.LEFT: lambda i, j: (i, j - 1),\n",
    "        CardinalDirection.RIGHT: lambda i, j: (i, j + 1),\n",
    "    }\n",
    "\n",
    "    def __init__(self, data: list[list[GridObject]], robot: Robot):\n",
    "        self.width = len(data[0])\n",
    "        self.height = len(data)\n",
    "        self.boxes: list[Box] = []\n",
    "        self.data = data\n",
    "        self.robot = robot\n",
    "        for row in data:\n",
    "            for grid_object in row:\n",
    "                if isinstance(grid_object, Box):\n",
    "                    self.boxes.append(grid_object)\n",
    "\n",
    "    def move_object(self, direction: CardinalDirection, from_position: tuple[int, int]) -> int:\n",
    "        \"\"\"Return the amount of objects moved\"\"\"\n",
    "        try:\n",
    "            grid_object = self.data[from_position[0]][from_position[1]]\n",
    "            next_position = Grid.MOVEMENT[direction](*from_position)\n",
    "            next_object = self.data[next_position[0]][next_position[1]]\n",
    "        except IndexError:\n",
    "            return 0\n",
    "\n",
    "        objects_moved = 0\n",
    "        if isinstance(next_object, EmptySquare):\n",
    "            grid_object.position = next_position\n",
    "            next_object.position = from_position\n",
    "            objects_moved += 1\n",
    "        elif isinstance(next_object, (Box, Robot)):\n",
    "            objects_moved += self.move_object(direction, next_position)\n",
    "        return objects_moved\n",
    "\n",
    "    def run_robot(self):\n",
    "        for direction in self.robot.commands:\n",
    "            self.move_object(direction, self.robot.position)\n",
    "\n",
    "    def visualize(self, scale=10):\n",
    "        img = Image.new('RGB', (scale*self.width, scale*self.height), 'black')\n",
    "        pixels = img.load()\n",
    "\n",
    "        for i, row in enumerate(self.data):\n",
    "            for j, grid_object in enumerate(row):\n",
    "                color = (125, 125, 125)\n",
    "                if isinstance(grid_object, EmptySquare):\n",
    "                    color = (255, 255, 255)\n",
    "                elif isinstance(grid_object, Box):\n",
    "                    color = (0, 255, 0)\n",
    "                elif isinstance(grid_object, Robot):\n",
    "                    color = (255, 0, 0)\n",
    "                elif isinstance(grid_object, Wall):\n",
    "                    color = (0, 0, 255)\n",
    "                pixels[scale*i, scale*j] = color\n",
    "\n",
    "                #for px_i in range(scale):\n",
    "                #    for px_j in range(scale):\n",
    "                #        pixels[scale*i+px_i, scale*j+px_j] = color\n",
    "        return img\n",
    "\n",
    "\n",
    "def load_input():\n",
    "    robot = None\n",
    "    commands = []\n",
    "    with open(\"../../data/day15-input.txt\") as f:\n",
    "        sections = f.read().split('\\n\\n')\n",
    "        assert 2 == len(sections)\n",
    "\n",
    "        for instruction in sections[1].strip().replace('\\n', ''):\n",
    "            if instruction == '^':\n",
    "                commands.append(CardinalDirection.UP)\n",
    "            elif instruction == '<':\n",
    "                commands.append(CardinalDirection.LEFT)\n",
    "            elif instruction == 'v':\n",
    "                commands.append(CardinalDirection.DOWN)\n",
    "            elif instruction == '>':\n",
    "                commands.append(CardinalDirection.RIGHT)\n",
    "            else:\n",
    "                raise ValueError(\"Unrecognized instruction: \" + instruction)\n",
    "\n",
    "        data = []\n",
    "        for i, line in enumerate(sections[0].split('\\n')):\n",
    "            row = []\n",
    "            for j, c in enumerate(line):\n",
    "                if c == '#':\n",
    "                    row.append(Wall(i, j))\n",
    "                elif c == 'O':\n",
    "                    row.append(Box(i, j))\n",
    "                elif c == '@':\n",
    "                    if robot is not None:\n",
    "                        raise ValueError('Robot already loaded')\n",
    "                    robot = Robot(i, j, commands)\n",
    "                    row.append(robot)\n",
    "                elif c == '.':\n",
    "                    row.append(EmptySquare((i, j)))\n",
    "                else:\n",
    "                    raise ValueError(\"Unhandled: \" + c)\n",
    "            data.append(row)\n",
    "        grid = Grid(data, robot)\n",
    "\n",
    "        return grid\n",
    "\n",
    "\n",
    "grid = load_input()\n",
    "#grid.run_robot()\n",
    "grid.visualize(10)\n"
   ],
   "id": "80b7bda41b63e4c7",
   "outputs": [
    {
     "ename": "AttributeError",
     "evalue": "'NoneType' object has no attribute 'f_code'",
     "output_type": "error",
     "traceback": [
      "\u001B[1;31m---------------------------------------------------------------------------\u001B[0m",
      "\u001B[1;31mAttributeError\u001B[0m                            Traceback (most recent call last)",
      "Cell \u001B[1;32mIn[2], line 151\u001B[0m\n\u001B[0;32m    146\u001B[0m         grid \u001B[38;5;241m=\u001B[39m Grid(data, robot)\n\u001B[0;32m    148\u001B[0m         \u001B[38;5;28;01mreturn\u001B[39;00m grid\n\u001B[1;32m--> 151\u001B[0m grid \u001B[38;5;241m=\u001B[39m \u001B[43mload_input\u001B[49m\u001B[43m(\u001B[49m\u001B[43m)\u001B[49m\n\u001B[0;32m    152\u001B[0m \u001B[38;5;66;03m#grid.run_robot()\u001B[39;00m\n\u001B[0;32m    153\u001B[0m grid\u001B[38;5;241m.\u001B[39mvisualize(\u001B[38;5;241m10\u001B[39m)\n",
      "Cell \u001B[1;32mIn[2], line 142\u001B[0m, in \u001B[0;36mload_input\u001B[1;34m()\u001B[0m\n\u001B[0;32m    140\u001B[0m     row\u001B[38;5;241m.\u001B[39mappend(robot)\n\u001B[0;32m    141\u001B[0m \u001B[38;5;28;01melif\u001B[39;00m c \u001B[38;5;241m==\u001B[39m \u001B[38;5;124m'\u001B[39m\u001B[38;5;124m.\u001B[39m\u001B[38;5;124m'\u001B[39m:\n\u001B[1;32m--> 142\u001B[0m     row\u001B[38;5;241m.\u001B[39mappend(\u001B[43mEmptySquare\u001B[49m\u001B[43m(\u001B[49m\u001B[43m(\u001B[49m\u001B[43mi\u001B[49m\u001B[43m,\u001B[49m\u001B[43m \u001B[49m\u001B[43mj\u001B[49m\u001B[43m)\u001B[49m\u001B[43m)\u001B[49m)\n\u001B[0;32m    143\u001B[0m \u001B[38;5;28;01melse\u001B[39;00m:\n\u001B[0;32m    144\u001B[0m     \u001B[38;5;28;01mraise\u001B[39;00m \u001B[38;5;167;01mValueError\u001B[39;00m(\u001B[38;5;124m\"\u001B[39m\u001B[38;5;124mUnhandled: \u001B[39m\u001B[38;5;124m\"\u001B[39m \u001B[38;5;241m+\u001B[39m c)\n",
      "Cell \u001B[1;32mIn[2], line 18\u001B[0m, in \u001B[0;36mEmptySquare.__init__\u001B[1;34m(self, position)\u001B[0m\n\u001B[0;32m     17\u001B[0m \u001B[38;5;28;01mdef\u001B[39;00m \u001B[38;5;21m__init__\u001B[39m(\u001B[38;5;28mself\u001B[39m, position: \u001B[38;5;28mtuple\u001B[39m[\u001B[38;5;28mint\u001B[39m, \u001B[38;5;28mint\u001B[39m]):\n\u001B[1;32m---> 18\u001B[0m     \u001B[38;5;28msuper\u001B[39m()\u001B[38;5;241m.\u001B[39m\u001B[38;5;21m__init__\u001B[39m(position)\n",
      "File \u001B[1;32m_pydevd_bundle\\\\pydevd_cython_win32_312_64.pyx:1187\u001B[0m, in \u001B[0;36m_pydevd_bundle.pydevd_cython_win32_312_64.SafeCallWrapper.__call__\u001B[1;34m()\u001B[0m\n",
      "File \u001B[1;32m_pydevd_bundle\\\\pydevd_cython_win32_312_64.pyx:627\u001B[0m, in \u001B[0;36m_pydevd_bundle.pydevd_cython_win32_312_64.PyDBFrame.trace_dispatch\u001B[1;34m()\u001B[0m\n",
      "File \u001B[1;32m_pydevd_bundle\\\\pydevd_cython_win32_312_64.pyx:764\u001B[0m, in \u001B[0;36m_pydevd_bundle.pydevd_cython_win32_312_64.PyDBFrame.trace_dispatch\u001B[1;34m()\u001B[0m\n",
      "File \u001B[1;32mG:\\Programs\\JetBrains\\PyCharm 2023.3.4\\plugins\\python\\helpers-pro\\jupyter_debug\\pydev_jupyter_plugin.py:92\u001B[0m, in \u001B[0;36mcan_not_skip\u001B[1;34m(plugin, pydb, frame, info)\u001B[0m\n\u001B[0;32m     90\u001B[0m \u001B[38;5;28;01mdef\u001B[39;00m \u001B[38;5;21mcan_not_skip\u001B[39m(plugin, pydb, frame, info):\n\u001B[0;32m     91\u001B[0m     step_cmd \u001B[38;5;241m=\u001B[39m info\u001B[38;5;241m.\u001B[39mpydev_step_cmd\n\u001B[1;32m---> 92\u001B[0m     \u001B[38;5;28;01mif\u001B[39;00m step_cmd \u001B[38;5;241m==\u001B[39m \u001B[38;5;241m108\u001B[39m \u001B[38;5;129;01mand\u001B[39;00m \u001B[43m_is_equals\u001B[49m\u001B[43m(\u001B[49m\u001B[43mframe\u001B[49m\u001B[43m,\u001B[49m\u001B[43m \u001B[49m\u001B[43m_get_stop_frame\u001B[49m\u001B[43m(\u001B[49m\u001B[43minfo\u001B[49m\u001B[43m)\u001B[49m\u001B[43m)\u001B[49m:\n\u001B[0;32m     93\u001B[0m         \u001B[38;5;28;01mreturn\u001B[39;00m \u001B[38;5;28;01mTrue\u001B[39;00m\n\u001B[0;32m     94\u001B[0m     \u001B[38;5;28;01mif\u001B[39;00m pydb\u001B[38;5;241m.\u001B[39mjupyter_breakpoints:\n",
      "File \u001B[1;32mG:\\Programs\\JetBrains\\PyCharm 2023.3.4\\plugins\\python\\helpers-pro\\jupyter_debug\\pydev_jupyter_plugin.py:126\u001B[0m, in \u001B[0;36m_is_equals\u001B[1;34m(frame, other_frame)\u001B[0m\n\u001B[0;32m    122\u001B[0m \u001B[38;5;28;01mdef\u001B[39;00m \u001B[38;5;21m_is_equals\u001B[39m(frame, other_frame):\n\u001B[0;32m    123\u001B[0m     \u001B[38;5;66;03m# We can't compare frames directly, because Jupyter compiles ast nodes\u001B[39;00m\n\u001B[0;32m    124\u001B[0m     \u001B[38;5;66;03m# in cell separately. At the same time, the frame filename is unique and stays\u001B[39;00m\n\u001B[0;32m    125\u001B[0m     \u001B[38;5;66;03m# the same within a cell.\u001B[39;00m\n\u001B[1;32m--> 126\u001B[0m     \u001B[38;5;28;01mreturn\u001B[39;00m frame\u001B[38;5;241m.\u001B[39mf_code\u001B[38;5;241m.\u001B[39mco_filename \u001B[38;5;241m==\u001B[39m \u001B[43mother_frame\u001B[49m\u001B[38;5;241;43m.\u001B[39;49m\u001B[43mf_code\u001B[49m\u001B[38;5;241m.\u001B[39mco_filename \\\n\u001B[0;32m    127\u001B[0m            \u001B[38;5;129;01mand\u001B[39;00m ((frame\u001B[38;5;241m.\u001B[39mf_code\u001B[38;5;241m.\u001B[39mco_name\u001B[38;5;241m.\u001B[39mstartswith(\u001B[38;5;124m'\u001B[39m\u001B[38;5;124m<cell line:\u001B[39m\u001B[38;5;124m'\u001B[39m)\n\u001B[0;32m    128\u001B[0m                  \u001B[38;5;129;01mand\u001B[39;00m other_frame\u001B[38;5;241m.\u001B[39mf_code\u001B[38;5;241m.\u001B[39mco_name\u001B[38;5;241m.\u001B[39mstartswith(\u001B[38;5;124m'\u001B[39m\u001B[38;5;124m<cell line:\u001B[39m\u001B[38;5;124m'\u001B[39m))\n\u001B[0;32m    129\u001B[0m                 \u001B[38;5;129;01mor\u001B[39;00m frame\u001B[38;5;241m.\u001B[39mf_code\u001B[38;5;241m.\u001B[39mco_name \u001B[38;5;241m==\u001B[39m other_frame\u001B[38;5;241m.\u001B[39mf_code\u001B[38;5;241m.\u001B[39mco_name)\n",
      "\u001B[1;31mAttributeError\u001B[0m: 'NoneType' object has no attribute 'f_code'"
     ]
    }
   ],
   "execution_count": 2
  },
  {
   "metadata": {
    "ExecuteTime": {
     "end_time": "2024-12-16T07:25:56.617658Z",
     "start_time": "2024-12-16T07:25:56.615279Z"
    }
   },
   "cell_type": "code",
   "source": [
    "box_sum = 0\n",
    "for box in grid.boxes:\n",
    "    box_sum += 100 * box.position[1] + box.position[0]\n",
    "print(box_sum)\n",
    "\n",
    "# Somewhere between 1447300 and 1484326"
   ],
   "id": "e4080ff6f20c07d6",
   "outputs": [
    {
     "name": "stdout",
     "output_type": "stream",
     "text": [
      "1460041\n"
     ]
    }
   ],
   "execution_count": 3
  },
  {
   "metadata": {
    "ExecuteTime": {
     "end_time": "2024-12-16T07:25:56.623955Z",
     "start_time": "2024-12-16T07:25:56.622443Z"
    }
   },
   "cell_type": "code",
   "source": "",
   "id": "1c457a20fffbaede",
   "outputs": [],
   "execution_count": null
  },
  {
   "metadata": {
    "ExecuteTime": {
     "end_time": "2024-12-16T07:25:56.642259Z",
     "start_time": "2024-12-16T07:25:56.640449Z"
    }
   },
   "cell_type": "code",
   "source": "",
   "id": "29da103c1a57ea2f",
   "outputs": [],
   "execution_count": null
  }
 ],
 "metadata": {
  "kernelspec": {
   "display_name": "Python 3",
   "language": "python",
   "name": "python3"
  },
  "language_info": {
   "codemirror_mode": {
    "name": "ipython",
    "version": 2
   },
   "file_extension": ".py",
   "mimetype": "text/x-python",
   "name": "python",
   "nbconvert_exporter": "python",
   "pygments_lexer": "ipython2",
   "version": "2.7.6"
  }
 },
 "nbformat": 4,
 "nbformat_minor": 5
}
