{
 "cells": [
  {
   "metadata": {
    "ExecuteTime": {
     "end_time": "2024-12-10T05:43:50.672105Z",
     "start_time": "2024-12-10T05:43:50.668606Z"
    }
   },
   "cell_type": "code",
   "source": "import math",
   "id": "27bfc3e3d3633b49",
   "outputs": [],
   "execution_count": 1
  },
  {
   "metadata": {
    "ExecuteTime": {
     "end_time": "2024-12-10T05:43:50.677395Z",
     "start_time": "2024-12-10T05:43:50.674117Z"
    }
   },
   "cell_type": "code",
   "source": [
    "def load_data() -> list[list[int]]:\n",
    "    with open('../../data/day10-input.txt') as f:\n",
    "        data = []\n",
    "        for line in f.readlines():\n",
    "            row = []\n",
    "            for c in line.strip():\n",
    "                row.append(int(c))\n",
    "            data.append(row)\n",
    "    return data"
   ],
   "id": "9aefd7d3e19c379f",
   "outputs": [],
   "execution_count": 2
  },
  {
   "metadata": {
    "ExecuteTime": {
     "end_time": "2024-12-10T05:43:50.775232Z",
     "start_time": "2024-12-10T05:43:50.772723Z"
    }
   },
   "cell_type": "code",
   "source": [
    "MOVEMENT = {\n",
    "    'up': lambda i, j: (i - 1, j),\n",
    "    'down': lambda i, j: (i + 1, j),\n",
    "    'left': lambda i, j: (i, j - 1),\n",
    "    'right': lambda i, j: (i, j + 1),\n",
    "}"
   ],
   "id": "dffa83abcc9d1fef",
   "outputs": [],
   "execution_count": 3
  },
  {
   "metadata": {
    "ExecuteTime": {
     "end_time": "2024-12-10T05:43:50.795241Z",
     "start_time": "2024-12-10T05:43:50.785434Z"
    }
   },
   "cell_type": "code",
   "source": [
    "def get_trailhead_destinations(row: int, col: int, data: list[list[int]], max_row, max_col) -> set[tuple[int,int]]:\n",
    "    current_value = data[row][col]\n",
    "    destinations = set()\n",
    "    if current_value == 9:\n",
    "        destinations.add((row, col))\n",
    "        return destinations\n",
    "    for move in MOVEMENT.values():\n",
    "        row1, col1 = move(row, col)\n",
    "        if -1 < row1 < max_row and -1 < col1 < max_col and data[row1][col1] == 1 + current_value:\n",
    "            destinations = destinations | get_trailhead_destinations(row1, col1, data, max_row, max_col)\n",
    "    return destinations\n",
    "\n",
    "\n",
    "def process_data():\n",
    "    data = load_data()\n",
    "    trailheads = []\n",
    "    max_row = len(data)\n",
    "    max_col = len(data[0])\n",
    "    for i, row in enumerate(data):\n",
    "        for j, value in enumerate(row):\n",
    "            if value == 0:\n",
    "                trailheads.append(len(get_trailhead_destinations(i, j, data, max_row, max_col)))\n",
    "    return trailheads\n",
    "\n",
    "\n",
    "trailheads = process_data()"
   ],
   "id": "87711e3fd47283af",
   "outputs": [],
   "execution_count": 4
  },
  {
   "metadata": {
    "ExecuteTime": {
     "end_time": "2024-12-10T05:43:50.802765Z",
     "start_time": "2024-12-10T05:43:50.800075Z"
    }
   },
   "cell_type": "code",
   "source": [
    "sum = 0\n",
    "for value in trailheads:\n",
    "    sum += value\n",
    "print(sum)"
   ],
   "id": "82369d2c47fe670c",
   "outputs": [
    {
     "name": "stdout",
     "output_type": "stream",
     "text": [
      "820\n"
     ]
    }
   ],
   "execution_count": 5
  },
  {
   "metadata": {
    "ExecuteTime": {
     "end_time": "2024-12-10T05:43:50.809385Z",
     "start_time": "2024-12-10T05:43:50.807761Z"
    }
   },
   "cell_type": "code",
   "source": "",
   "id": "fe72c92f9692b67d",
   "outputs": [],
   "execution_count": null
  }
 ],
 "metadata": {
  "kernelspec": {
   "display_name": "Python 3",
   "language": "python",
   "name": "python3"
  },
  "language_info": {
   "codemirror_mode": {
    "name": "ipython",
    "version": 2
   },
   "file_extension": ".py",
   "mimetype": "text/x-python",
   "name": "python",
   "nbconvert_exporter": "python",
   "pygments_lexer": "ipython2",
   "version": "2.7.6"
  }
 },
 "nbformat": 4,
 "nbformat_minor": 5
}
