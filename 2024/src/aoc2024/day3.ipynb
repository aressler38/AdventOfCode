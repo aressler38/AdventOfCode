{
 "cells": [
  {
   "cell_type": "code",
   "id": "initial_id",
   "metadata": {
    "collapsed": true,
    "ExecuteTime": {
     "end_time": "2024-12-05T05:39:00.447967Z",
     "start_time": "2024-12-05T05:39:00.445315Z"
    }
   },
   "source": "import re",
   "outputs": [],
   "execution_count": 1
  },
  {
   "metadata": {
    "ExecuteTime": {
     "end_time": "2024-12-05T05:39:00.454287Z",
     "start_time": "2024-12-05T05:39:00.451484Z"
    }
   },
   "cell_type": "code",
   "source": [
    "with open('../../data/day03-input1.txt', 'r') as f:\n",
    "    text = f.read()"
   ],
   "id": "f233fb781093ad78",
   "outputs": [],
   "execution_count": 2
  },
  {
   "metadata": {
    "ExecuteTime": {
     "end_time": "2024-12-05T05:39:00.552785Z",
     "start_time": "2024-12-05T05:39:00.549418Z"
    }
   },
   "cell_type": "code",
   "source": "match = re.findall(r'mul\\((\\d+),(\\d+)\\)', text)",
   "id": "cd2136cf051fec0f",
   "outputs": [],
   "execution_count": 3
  },
  {
   "metadata": {
    "ExecuteTime": {
     "end_time": "2024-12-05T05:39:00.561998Z",
     "start_time": "2024-12-05T05:39:00.557984Z"
    }
   },
   "cell_type": "code",
   "source": [
    "sum = 0\n",
    "for pair in match:\n",
    "    sum += int(pair[0]) * int(pair[1])\n",
    "print(sum)"
   ],
   "id": "36593662ec3dcaff",
   "outputs": [
    {
     "name": "stdout",
     "output_type": "stream",
     "text": [
      "173785482\n"
     ]
    }
   ],
   "execution_count": 4
  },
  {
   "metadata": {
    "ExecuteTime": {
     "end_time": "2024-12-05T05:39:00.580164Z",
     "start_time": "2024-12-05T05:39:00.575897Z"
    }
   },
   "cell_type": "code",
   "source": [
    "sum = 0\n",
    "do = True\n",
    "for match in re.finditer(r'(?:mul\\((\\d+),(\\d+)\\))|(?:do\\(\\))|(?:don\\'t\\(\\))', text):\n",
    "    operation = match.group(0)[:3]\n",
    "    if do and operation == 'mul':\n",
    "        sum += int(match.group(1)) * int(match.group(2))\n",
    "    elif operation == 'do(':\n",
    "        do = True\n",
    "    elif operation == 'don':\n",
    "        do = False\n",
    "print(sum)"
   ],
   "id": "e358a93660da4091",
   "outputs": [
    {
     "name": "stdout",
     "output_type": "stream",
     "text": [
      "83158140\n"
     ]
    }
   ],
   "execution_count": 5
  }
 ],
 "metadata": {
  "kernelspec": {
   "display_name": "Python 3",
   "language": "python",
   "name": "python3"
  },
  "language_info": {
   "codemirror_mode": {
    "name": "ipython",
    "version": 2
   },
   "file_extension": ".py",
   "mimetype": "text/x-python",
   "name": "python",
   "nbconvert_exporter": "python",
   "pygments_lexer": "ipython2",
   "version": "2.7.6"
  }
 },
 "nbformat": 4,
 "nbformat_minor": 5
}
