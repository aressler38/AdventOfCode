{
 "cells": [
  {
   "cell_type": "code",
   "id": "initial_id",
   "metadata": {
    "collapsed": true,
    "ExecuteTime": {
     "end_time": "2024-12-05T05:38:22.081468Z",
     "start_time": "2024-12-05T05:38:22.078332Z"
    }
   },
   "source": "import math",
   "outputs": [],
   "execution_count": 1
  },
  {
   "metadata": {
    "ExecuteTime": {
     "end_time": "2024-12-05T05:38:22.093747Z",
     "start_time": "2024-12-05T05:38:22.089477Z"
    }
   },
   "cell_type": "code",
   "source": [
    "list1 = []\n",
    "list2 = []\n",
    "with open('../../data/day01-input1.txt') as f:\n",
    "    for line in f.readlines():\n",
    "        parts = line.split('   ')\n",
    "        list1.append(int(parts[0]))\n",
    "        list2.append(int(parts[1]))\n"
   ],
   "id": "88158eb985ca6e4e",
   "outputs": [],
   "execution_count": 2
  },
  {
   "metadata": {
    "ExecuteTime": {
     "end_time": "2024-12-05T05:38:22.101788Z",
     "start_time": "2024-12-05T05:38:22.098757Z"
    }
   },
   "cell_type": "code",
   "source": [
    "list1 = sorted(list1)\n",
    "list2 = sorted(list2)"
   ],
   "id": "2abb2c9c4992023c",
   "outputs": [],
   "execution_count": 3
  },
  {
   "metadata": {
    "ExecuteTime": {
     "end_time": "2024-12-05T05:38:22.375803Z",
     "start_time": "2024-12-05T05:38:22.372542Z"
    }
   },
   "cell_type": "code",
   "source": [
    "sum = 0\n",
    "for a, b in zip(list1, list2):\n",
    "    sum += math.fabs(a-b)\n",
    "print(sum)"
   ],
   "id": "1453e8ce7cefd9e2",
   "outputs": [
    {
     "name": "stdout",
     "output_type": "stream",
     "text": [
      "1666427.0\n"
     ]
    }
   ],
   "execution_count": 4
  },
  {
   "metadata": {
    "ExecuteTime": {
     "end_time": "2024-12-05T05:38:22.404398Z",
     "start_time": "2024-12-05T05:38:22.400874Z"
    }
   },
   "cell_type": "code",
   "source": [
    "frequency_list1 = {}\n",
    "frequency_list2 = {}\n",
    "for nums, frequency_list in [(list1, frequency_list1), (list2, frequency_list2)]:\n",
    "    for num in nums:\n",
    "        if num in frequency_list:\n",
    "            frequency_list[num] += 1\n",
    "        else:\n",
    "            frequency_list[num] = 1"
   ],
   "id": "a81f1185601b477e",
   "outputs": [],
   "execution_count": 5
  },
  {
   "metadata": {
    "ExecuteTime": {
     "end_time": "2024-12-05T05:38:22.419793Z",
     "start_time": "2024-12-05T05:38:22.416406Z"
    }
   },
   "cell_type": "code",
   "source": [
    "sum = 0\n",
    "for num, count in frequency_list1.items():\n",
    "    if num in frequency_list2:\n",
    "        sum += count * frequency_list2[num]\n",
    "\n",
    "print(sum)"
   ],
   "id": "8b23d8af491876eb",
   "outputs": [
    {
     "name": "stdout",
     "output_type": "stream",
     "text": [
      "442\n"
     ]
    }
   ],
   "execution_count": 6
  },
  {
   "metadata": {
    "ExecuteTime": {
     "end_time": "2024-12-05T05:38:22.461341Z",
     "start_time": "2024-12-05T05:38:22.457284Z"
    }
   },
   "cell_type": "code",
   "source": [
    "intersection = list(set(frequency_list1.keys()) & set(frequency_list2.keys()))\n",
    "sum = 0\n",
    "for num in intersection:\n",
    "    sum += num * frequency_list2[num]\n",
    "print(sum)"
   ],
   "id": "522ea88d5ca4e5cb",
   "outputs": [
    {
     "name": "stdout",
     "output_type": "stream",
     "text": [
      "24316233\n"
     ]
    }
   ],
   "execution_count": 7
  },
  {
   "metadata": {
    "ExecuteTime": {
     "end_time": "2024-12-05T05:38:22.482544Z",
     "start_time": "2024-12-05T05:38:22.479473Z"
    }
   },
   "cell_type": "code",
   "source": "",
   "id": "90d2cf7890c5bc74",
   "outputs": [],
   "execution_count": null
  }
 ],
 "metadata": {
  "kernelspec": {
   "display_name": "Python 3",
   "language": "python",
   "name": "python3"
  },
  "language_info": {
   "codemirror_mode": {
    "name": "ipython",
    "version": 2
   },
   "file_extension": ".py",
   "mimetype": "text/x-python",
   "name": "python",
   "nbconvert_exporter": "python",
   "pygments_lexer": "ipython2",
   "version": "2.7.6"
  }
 },
 "nbformat": 4,
 "nbformat_minor": 5
}
