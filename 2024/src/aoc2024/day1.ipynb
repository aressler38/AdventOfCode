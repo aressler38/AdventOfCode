{
 "cells": [
  {
   "cell_type": "code",
   "id": "initial_id",
   "metadata": {
    "collapsed": true,
    "ExecuteTime": {
     "end_time": "2024-12-07T01:45:38.632305Z",
     "start_time": "2024-12-07T01:45:38.629501Z"
    }
   },
   "source": "import math",
   "outputs": [],
   "execution_count": 1
  },
  {
   "metadata": {
    "ExecuteTime": {
     "end_time": "2024-12-07T01:45:38.642261Z",
     "start_time": "2024-12-07T01:45:38.637311Z"
    }
   },
   "cell_type": "code",
   "source": [
    "list1 = []\n",
    "list2 = []\n",
    "with open('../../data/day01-input.txt') as f:\n",
    "    for line in f.readlines():\n",
    "        parts = line.split('   ')\n",
    "        list1.append(int(parts[0]))\n",
    "        list2.append(int(parts[1]))"
   ],
   "id": "88158eb985ca6e4e",
   "outputs": [],
   "execution_count": 2
  },
  {
   "metadata": {
    "ExecuteTime": {
     "end_time": "2024-12-07T01:45:38.739472Z",
     "start_time": "2024-12-07T01:45:38.736967Z"
    }
   },
   "cell_type": "code",
   "source": [
    "list1 = sorted(list1)\n",
    "list2 = sorted(list2)"
   ],
   "id": "2abb2c9c4992023c",
   "outputs": [],
   "execution_count": 3
  },
  {
   "metadata": {
    "ExecuteTime": {
     "end_time": "2024-12-07T01:45:38.747595Z",
     "start_time": "2024-12-07T01:45:38.744959Z"
    }
   },
   "cell_type": "code",
   "source": [
    "sum = 0\n",
    "for a, b in zip(list1, list2):\n",
    "    sum += math.fabs(a-b)\n",
    "print(sum)"
   ],
   "id": "1453e8ce7cefd9e2",
   "outputs": [
    {
     "name": "stdout",
     "output_type": "stream",
     "text": [
      "1666427.0\n"
     ]
    }
   ],
   "execution_count": 4
  },
  {
   "metadata": {
    "ExecuteTime": {
     "end_time": "2024-12-07T01:45:38.772574Z",
     "start_time": "2024-12-07T01:45:38.769603Z"
    }
   },
   "cell_type": "code",
   "source": [
    "frequency_list1 = {}\n",
    "frequency_list2 = {}\n",
    "for nums, frequency_list in [(list1, frequency_list1), (list2, frequency_list2)]:\n",
    "    for num in nums:\n",
    "        if num in frequency_list:\n",
    "            frequency_list[num] += 1\n",
    "        else:\n",
    "            frequency_list[num] = 1"
   ],
   "id": "a81f1185601b477e",
   "outputs": [],
   "execution_count": 5
  },
  {
   "metadata": {
    "ExecuteTime": {
     "end_time": "2024-12-07T01:45:38.781703Z",
     "start_time": "2024-12-07T01:45:38.779186Z"
    }
   },
   "cell_type": "code",
   "source": [
    "sum = 0\n",
    "for num, count in frequency_list1.items():\n",
    "    if num in frequency_list2:\n",
    "        sum += count * frequency_list2[num]\n",
    "\n",
    "print(sum)"
   ],
   "id": "8b23d8af491876eb",
   "outputs": [
    {
     "name": "stdout",
     "output_type": "stream",
     "text": [
      "442\n"
     ]
    }
   ],
   "execution_count": 6
  },
  {
   "metadata": {
    "ExecuteTime": {
     "end_time": "2024-12-07T01:45:38.804234Z",
     "start_time": "2024-12-07T01:45:38.800542Z"
    }
   },
   "cell_type": "code",
   "source": [
    "intersection = list(set(frequency_list1.keys()) & set(frequency_list2.keys()))\n",
    "sum = 0\n",
    "for num in intersection:\n",
    "    sum += num * frequency_list2[num]\n",
    "print(sum)"
   ],
   "id": "522ea88d5ca4e5cb",
   "outputs": [
    {
     "name": "stdout",
     "output_type": "stream",
     "text": [
      "24316233\n"
     ]
    }
   ],
   "execution_count": 7
  },
  {
   "metadata": {
    "ExecuteTime": {
     "end_time": "2024-12-07T01:45:38.829178Z",
     "start_time": "2024-12-07T01:45:38.826576Z"
    }
   },
   "cell_type": "code",
   "source": "",
   "id": "90d2cf7890c5bc74",
   "outputs": [],
   "execution_count": null
  }
 ],
 "metadata": {
  "kernelspec": {
   "display_name": "Python 3",
   "language": "python",
   "name": "python3"
  },
  "language_info": {
   "codemirror_mode": {
    "name": "ipython",
    "version": 2
   },
   "file_extension": ".py",
   "mimetype": "text/x-python",
   "name": "python",
   "nbconvert_exporter": "python",
   "pygments_lexer": "ipython2",
   "version": "2.7.6"
  }
 },
 "nbformat": 4,
 "nbformat_minor": 5
}
