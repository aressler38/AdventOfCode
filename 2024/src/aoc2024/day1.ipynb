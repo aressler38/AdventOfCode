{
 "cells": [
  {
   "cell_type": "code",
   "id": "initial_id",
   "metadata": {
    "collapsed": true,
    "ExecuteTime": {
     "end_time": "2024-12-04T02:08:31.616895Z",
     "start_time": "2024-12-04T02:08:31.613367Z"
    }
   },
   "source": "import math",
   "outputs": [],
   "execution_count": 1
  },
  {
   "metadata": {
    "ExecuteTime": {
     "end_time": "2024-12-04T02:09:31.428428Z",
     "start_time": "2024-12-04T02:09:31.424924Z"
    }
   },
   "cell_type": "code",
   "source": [
    "list1 = []\n",
    "list2 = []\n",
    "with open('../../data/day01/input.txt') as f:\n",
    "    for line in f.readlines():\n",
    "        parts = line.split('   ')\n",
    "        list1.append(int(parts[0]))\n",
    "        list2.append(int(parts[1]))\n"
   ],
   "id": "88158eb985ca6e4e",
   "outputs": [],
   "execution_count": 2
  },
  {
   "metadata": {
    "ExecuteTime": {
     "end_time": "2024-12-04T02:10:14.872363Z",
     "start_time": "2024-12-04T02:10:14.869946Z"
    }
   },
   "cell_type": "code",
   "source": [
    "list1 = sorted(list1)\n",
    "list2 = sorted(list2)"
   ],
   "id": "2abb2c9c4992023c",
   "outputs": [],
   "execution_count": 4
  },
  {
   "metadata": {
    "ExecuteTime": {
     "end_time": "2024-12-04T02:10:44.645758Z",
     "start_time": "2024-12-04T02:10:44.642829Z"
    }
   },
   "cell_type": "code",
   "source": [
    "sum = 0\n",
    "for a, b in zip(list1, list2):\n",
    "    sum += math.fabs(a-b)\n",
    "print(sum)"
   ],
   "id": "1453e8ce7cefd9e2",
   "outputs": [
    {
     "name": "stdout",
     "output_type": "stream",
     "text": [
      "1666427.0\n"
     ]
    }
   ],
   "execution_count": 6
  },
  {
   "metadata": {
    "ExecuteTime": {
     "end_time": "2024-12-04T02:11:53.660226Z",
     "start_time": "2024-12-04T02:11:53.657215Z"
    }
   },
   "cell_type": "code",
   "source": [
    "frequency_list1 = {}\n",
    "frequency_list2 = {}\n",
    "for nums, frequency_list in [(list1, frequency_list1), (list2, frequency_list2)]:\n",
    "    for num in nums:\n",
    "        if num in frequency_list:\n",
    "            frequency_list[num] += 1\n",
    "        else:\n",
    "            frequency_list[num] = 1"
   ],
   "id": "a81f1185601b477e",
   "outputs": [],
   "execution_count": 7
  },
  {
   "metadata": {
    "ExecuteTime": {
     "end_time": "2024-12-04T02:12:42.219071Z",
     "start_time": "2024-12-04T02:12:42.215069Z"
    }
   },
   "cell_type": "code",
   "source": [
    "sum = 0\n",
    "for num, count in frequency_list1.items():\n",
    "    if num in frequency_list2:\n",
    "        sum += count * frequency_list2[num]\n",
    "\n",
    "print(sum)"
   ],
   "id": "8b23d8af491876eb",
   "outputs": [
    {
     "name": "stdout",
     "output_type": "stream",
     "text": [
      "442\n"
     ]
    }
   ],
   "execution_count": 8
  },
  {
   "metadata": {
    "ExecuteTime": {
     "end_time": "2024-12-04T02:13:46.673950Z",
     "start_time": "2024-12-04T02:13:46.670942Z"
    }
   },
   "cell_type": "code",
   "source": [
    "intersection = list(set(frequency_list1.keys()) & set(frequency_list2.keys()))\n",
    "sum = 0\n",
    "for num in intersection:\n",
    "    sum += num * frequency_list2[num]\n",
    "print(sum)"
   ],
   "id": "522ea88d5ca4e5cb",
   "outputs": [
    {
     "name": "stdout",
     "output_type": "stream",
     "text": [
      "24316233\n"
     ]
    }
   ],
   "execution_count": 9
  },
  {
   "metadata": {},
   "cell_type": "code",
   "outputs": [],
   "execution_count": null,
   "source": "",
   "id": "90d2cf7890c5bc74"
  }
 ],
 "metadata": {
  "kernelspec": {
   "display_name": "Python 3",
   "language": "python",
   "name": "python3"
  },
  "language_info": {
   "codemirror_mode": {
    "name": "ipython",
    "version": 2
   },
   "file_extension": ".py",
   "mimetype": "text/x-python",
   "name": "python",
   "nbconvert_exporter": "python",
   "pygments_lexer": "ipython2",
   "version": "2.7.6"
  }
 },
 "nbformat": 4,
 "nbformat_minor": 5
}
