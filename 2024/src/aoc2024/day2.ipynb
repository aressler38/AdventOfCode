{
 "cells": [
  {
   "cell_type": "code",
   "id": "initial_id",
   "metadata": {
    "collapsed": true,
    "ExecuteTime": {
     "end_time": "2024-12-04T02:19:08.282008Z",
     "start_time": "2024-12-04T02:19:08.277063Z"
    }
   },
   "source": [
    "data = []\n",
    "with open('../../data/day02/input.txt') as f:\n",
    "    for line in f.readlines():\n",
    "        parts = line.strip().split(' ')\n",
    "        data.append([int(x) for x in parts])"
   ],
   "outputs": [],
   "execution_count": 1
  },
  {
   "metadata": {
    "ExecuteTime": {
     "end_time": "2024-12-04T02:22:47.827050Z",
     "start_time": "2024-12-04T02:22:47.824054Z"
    }
   },
   "cell_type": "code",
   "source": [
    "def is_safe_interval(a: int, b: int, asc: bool) -> bool:\n",
    "    diff = b - a if asc else a - b\n",
    "    if 0 < diff < 4:\n",
    "        return True\n",
    "    return False"
   ],
   "id": "fbcc00a2fdd3cd00",
   "outputs": [],
   "execution_count": 6
  },
  {
   "metadata": {
    "ExecuteTime": {
     "end_time": "2024-12-04T02:22:48.692149Z",
     "start_time": "2024-12-04T02:22:48.688138Z"
    }
   },
   "cell_type": "code",
   "source": [
    "def is_safe_row(row: list[int]) -> bool:\n",
    "    diff = row[1] - row[0]\n",
    "    if 0 == diff or diff < -3 or diff > 3:\n",
    "        return False\n",
    "    asc = 0 < diff\n",
    "    for idx in range(1, len(row) - 1):\n",
    "        if not is_safe_interval(row[idx], row[idx + 1], asc):\n",
    "            return False\n",
    "    return True"
   ],
   "id": "fd3a919d812d1c5d",
   "outputs": [],
   "execution_count": 7
  },
  {
   "metadata": {
    "ExecuteTime": {
     "end_time": "2024-12-04T02:22:49.194277Z",
     "start_time": "2024-12-04T02:22:49.191085Z"
    }
   },
   "cell_type": "code",
   "source": [
    "counter = 0\n",
    "for row in data:\n",
    "    if is_safe_row(row):\n",
    "        counter += 1\n",
    "print(counter)"
   ],
   "id": "10d4bc67d1acc35c",
   "outputs": [
    {
     "name": "stdout",
     "output_type": "stream",
     "text": [
      "390\n"
     ]
    }
   ],
   "execution_count": 8
  },
  {
   "metadata": {
    "ExecuteTime": {
     "end_time": "2024-12-04T02:23:50.909829Z",
     "start_time": "2024-12-04T02:23:50.906328Z"
    }
   },
   "cell_type": "code",
   "source": [
    "def is_safe_row_with_dampener(row: list[int]) -> bool:\n",
    "    if is_safe_row(row):\n",
    "        return True\n",
    "    else:\n",
    "        for idx in range(0, len(row)):\n",
    "            if is_safe_row(row[:idx] + row[idx + 1:]):\n",
    "                return True\n",
    "    return False"
   ],
   "id": "747052d572f18013",
   "outputs": [],
   "execution_count": 9
  },
  {
   "metadata": {
    "ExecuteTime": {
     "end_time": "2024-12-04T02:24:17.351946Z",
     "start_time": "2024-12-04T02:24:17.346873Z"
    }
   },
   "cell_type": "code",
   "source": [
    "counter = 0\n",
    "for row in data:\n",
    "    if is_safe_row_with_dampener(row):\n",
    "        counter += 1\n",
    "print(counter)"
   ],
   "id": "f4c3b8d4a96af665",
   "outputs": [
    {
     "name": "stdout",
     "output_type": "stream",
     "text": [
      "439\n"
     ]
    }
   ],
   "execution_count": 10
  },
  {
   "metadata": {},
   "cell_type": "code",
   "outputs": [],
   "execution_count": null,
   "source": "",
   "id": "15e0b9907990e9e9"
  }
 ],
 "metadata": {
  "kernelspec": {
   "display_name": "Python 3",
   "language": "python",
   "name": "python3"
  },
  "language_info": {
   "codemirror_mode": {
    "name": "ipython",
    "version": 2
   },
   "file_extension": ".py",
   "mimetype": "text/x-python",
   "name": "python",
   "nbconvert_exporter": "python",
   "pygments_lexer": "ipython2",
   "version": "2.7.6"
  }
 },
 "nbformat": 4,
 "nbformat_minor": 5
}
