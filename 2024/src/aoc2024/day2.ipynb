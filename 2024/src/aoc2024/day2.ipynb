{
 "cells": [
  {
   "metadata": {
    "ExecuteTime": {
     "end_time": "2024-12-07T01:45:28.520799Z",
     "start_time": "2024-12-07T01:45:28.515282Z"
    }
   },
   "cell_type": "code",
   "source": [
    "data = []\n",
    "with open('../../data/day02-input.txt') as f:\n",
    "    for line in f.readlines():\n",
    "        parts = line.strip().split(' ')\n",
    "        data.append([int(x) for x in parts])"
   ],
   "id": "1610ae383eb384d",
   "outputs": [],
   "execution_count": 1
  },
  {
   "metadata": {
    "ExecuteTime": {
     "end_time": "2024-12-07T01:45:28.526353Z",
     "start_time": "2024-12-07T01:45:28.523804Z"
    }
   },
   "cell_type": "code",
   "source": [
    "def is_safe_interval(a: int, b: int, asc: bool) -> bool:\n",
    "    diff = b - a if asc else a - b\n",
    "    if 0 < diff < 4:\n",
    "        return True\n",
    "    return False"
   ],
   "id": "d2d5a1a6061e4afc",
   "outputs": [],
   "execution_count": 2
  },
  {
   "metadata": {
    "ExecuteTime": {
     "end_time": "2024-12-07T01:45:28.621730Z",
     "start_time": "2024-12-07T01:45:28.618795Z"
    }
   },
   "cell_type": "code",
   "source": [
    "def is_safe_row(row: list[int]) -> bool:\n",
    "    diff = row[1] - row[0]\n",
    "    if 0 == diff or diff < -3 or diff > 3:\n",
    "        return False\n",
    "    asc = 0 < diff\n",
    "    for idx in range(1, len(row) - 1):\n",
    "        if not is_safe_interval(row[idx], row[idx + 1], asc):\n",
    "            return False\n",
    "    return True"
   ],
   "id": "fd3a919d812d1c5d",
   "outputs": [],
   "execution_count": 3
  },
  {
   "metadata": {
    "ExecuteTime": {
     "end_time": "2024-12-07T01:45:28.629640Z",
     "start_time": "2024-12-07T01:45:28.626889Z"
    }
   },
   "cell_type": "code",
   "source": [
    "counter = 0\n",
    "for row in data:\n",
    "    if is_safe_row(row):\n",
    "        counter += 1\n",
    "print(counter)"
   ],
   "id": "10d4bc67d1acc35c",
   "outputs": [
    {
     "name": "stdout",
     "output_type": "stream",
     "text": [
      "390\n"
     ]
    }
   ],
   "execution_count": 4
  },
  {
   "metadata": {
    "ExecuteTime": {
     "end_time": "2024-12-07T01:45:28.662468Z",
     "start_time": "2024-12-07T01:45:28.658982Z"
    }
   },
   "cell_type": "code",
   "source": [
    "def is_safe_row_with_dampener(row: list[int]) -> bool:\n",
    "    if is_safe_row(row):\n",
    "        return True\n",
    "    else:\n",
    "        for idx in range(0, len(row)):\n",
    "            if is_safe_row(row[:idx] + row[idx + 1:]):\n",
    "                return True\n",
    "    return False"
   ],
   "id": "747052d572f18013",
   "outputs": [],
   "execution_count": 5
  },
  {
   "metadata": {
    "ExecuteTime": {
     "end_time": "2024-12-07T01:45:28.676422Z",
     "start_time": "2024-12-07T01:45:28.672334Z"
    }
   },
   "cell_type": "code",
   "source": [
    "counter = 0\n",
    "for row in data:\n",
    "    if is_safe_row_with_dampener(row):\n",
    "        counter += 1\n",
    "print(counter)"
   ],
   "id": "f4c3b8d4a96af665",
   "outputs": [
    {
     "name": "stdout",
     "output_type": "stream",
     "text": [
      "439\n"
     ]
    }
   ],
   "execution_count": 6
  },
  {
   "metadata": {
    "ExecuteTime": {
     "end_time": "2024-12-07T01:45:28.725164Z",
     "start_time": "2024-12-07T01:45:28.722433Z"
    }
   },
   "cell_type": "code",
   "source": "",
   "id": "15e0b9907990e9e9",
   "outputs": [],
   "execution_count": null
  }
 ],
 "metadata": {
  "kernelspec": {
   "display_name": "Python 3",
   "language": "python",
   "name": "python3"
  },
  "language_info": {
   "codemirror_mode": {
    "name": "ipython",
    "version": 2
   },
   "file_extension": ".py",
   "mimetype": "text/x-python",
   "name": "python",
   "nbconvert_exporter": "python",
   "pygments_lexer": "ipython2",
   "version": "2.7.6"
  }
 },
 "nbformat": 4,
 "nbformat_minor": 5
}
