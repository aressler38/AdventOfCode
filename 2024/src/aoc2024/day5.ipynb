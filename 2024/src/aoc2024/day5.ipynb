{
 "cells": [
  {
   "cell_type": "code",
   "id": "initial_id",
   "metadata": {
    "collapsed": true,
    "ExecuteTime": {
     "end_time": "2024-12-05T06:01:29.994959Z",
     "start_time": "2024-12-05T06:01:29.992957Z"
    }
   },
   "source": [
    ""
   ],
   "outputs": [],
   "execution_count": null
  },
  {
   "metadata": {
    "ExecuteTime": {
     "end_time": "2024-12-05T06:01:30.619733Z",
     "start_time": "2024-12-05T06:01:30.614229Z"
    }
   },
   "cell_type": "code",
   "source": [
    "with open(\"../../data/day05-input1.txt\") as f:\n",
    "    rules, updates = f.read().split(\"\\n\\n\")\n",
    "    updates = [list(map(lambda d: int(d), row.split(','))) for row in updates.split(\"\\n\")]\n",
    "    rules = [list(map(lambda d: int(d), r.split('|'))) for r in rules.split(\"\\n\")]"
   ],
   "id": "19a7e82f8859ff5c",
   "outputs": [],
   "execution_count": 9
  },
  {
   "metadata": {},
   "cell_type": "code",
   "outputs": [],
   "execution_count": null,
   "source": [
    "\n",
    "# For this lookup table, I will have the key\n",
    "lookup_table = {}"
   ],
   "id": "6d3bec1f9d84a368"
  },
  {
   "metadata": {
    "ExecuteTime": {
     "end_time": "2024-12-05T06:13:27.730253Z",
     "start_time": "2024-12-05T06:13:27.726385Z"
    }
   },
   "cell_type": "code",
   "source": [
    "# sorted(rules, key=lambda r: r[0])\n",
    "print(\"\")"
   ],
   "id": "2b75d28b91271d5a",
   "outputs": [
    {
     "name": "stdout",
     "output_type": "stream",
     "text": [
      "\n"
     ]
    }
   ],
   "execution_count": 12
  },
  {
   "metadata": {},
   "cell_type": "code",
   "outputs": [],
   "execution_count": null,
   "source": "",
   "id": "a37b44c847e0a8f"
  }
 ],
 "metadata": {
  "kernelspec": {
   "display_name": "Python 3",
   "language": "python",
   "name": "python3"
  },
  "language_info": {
   "codemirror_mode": {
    "name": "ipython",
    "version": 2
   },
   "file_extension": ".py",
   "mimetype": "text/x-python",
   "name": "python",
   "nbconvert_exporter": "python",
   "pygments_lexer": "ipython2",
   "version": "2.7.6"
  }
 },
 "nbformat": 4,
 "nbformat_minor": 5
}
