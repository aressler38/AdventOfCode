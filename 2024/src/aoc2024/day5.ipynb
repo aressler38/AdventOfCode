{
 "cells": [
  {
   "cell_type": "code",
   "id": "initial_id",
   "metadata": {
    "collapsed": true,
    "ExecuteTime": {
     "end_time": "2024-12-07T01:44:52.418690Z",
     "start_time": "2024-12-07T01:44:52.416009Z"
    }
   },
   "source": "from dataclasses import dataclass, field",
   "outputs": [],
   "execution_count": 1
  },
  {
   "metadata": {
    "ExecuteTime": {
     "end_time": "2024-12-07T01:44:52.426684Z",
     "start_time": "2024-12-07T01:44:52.421695Z"
    }
   },
   "cell_type": "code",
   "source": [
    "with open(\"../../data/day05-input.txt\") as f:\n",
    "    rules, updates = f.read().split(\"\\n\\n\")\n",
    "    updates = [list(map(lambda d: int(d), row.split(','))) for row in updates.split(\"\\n\")]\n",
    "    rules = [list(map(lambda d: int(d), r.split('|'))) for r in rules.split(\"\\n\")]"
   ],
   "id": "19a7e82f8859ff5c",
   "outputs": [],
   "execution_count": 2
  },
  {
   "metadata": {
    "ExecuteTime": {
     "end_time": "2024-12-07T01:44:52.531678Z",
     "start_time": "2024-12-07T01:44:52.528068Z"
    }
   },
   "cell_type": "code",
   "source": [
    "@dataclass\n",
    "class Node:\n",
    "    name: int\n",
    "    children: set[int] = field(default_factory=set)\n",
    "\n",
    "    def __hash__(self):\n",
    "        return self.name\n",
    "\n",
    "    def __lt__(self, other: \"Node\"):\n",
    "        if other.name in self.children:\n",
    "            return True\n",
    "        return False\n",
    "\n",
    "# Set up the lookup table, and populate direct children\n",
    "nodes: dict[int, Node] = {}\n",
    "for a, b in rules:\n",
    "    if a not in nodes:\n",
    "        node = Node(name=a)\n",
    "        node.children.add(b)\n",
    "        nodes[a] = node\n",
    "    else:\n",
    "        node = nodes[a]\n",
    "        node.children.add(b)\n",
    "    if b not in nodes:\n",
    "        node = Node(name=b)\n",
    "        nodes[b] = node\n",
    "    else:\n",
    "        node = nodes[b]\n"
   ],
   "id": "2b75d28b91271d5a",
   "outputs": [],
   "execution_count": 3
  },
  {
   "metadata": {
    "ExecuteTime": {
     "end_time": "2024-12-07T01:44:52.542698Z",
     "start_time": "2024-12-07T01:44:52.538314Z"
    }
   },
   "cell_type": "code",
   "source": [
    "sum = 0\n",
    "incorrect_updates = []\n",
    "for update in updates:\n",
    "    # Go backwards\n",
    "    is_bad = False\n",
    "    for idx in range(len(update)-1, -1, -1):\n",
    "        if update[idx] not in nodes:\n",
    "            continue\n",
    "        else:\n",
    "            node = nodes[update[idx]]\n",
    "            for num in update[:idx]:\n",
    "                if num in node.children:\n",
    "                    is_bad = True\n",
    "                    break\n",
    "        if is_bad:\n",
    "            incorrect_updates.append(update)\n",
    "            break\n",
    "    if not is_bad:\n",
    "        middle = update[len(update) // 2]\n",
    "        sum += middle\n",
    "print(sum)"
   ],
   "id": "9ab053bcc2b98b02",
   "outputs": [
    {
     "name": "stdout",
     "output_type": "stream",
     "text": [
      "4462\n"
     ]
    }
   ],
   "execution_count": 4
  },
  {
   "metadata": {
    "ExecuteTime": {
     "end_time": "2024-12-07T01:44:52.563573Z",
     "start_time": "2024-12-07T01:44:52.559755Z"
    }
   },
   "cell_type": "code",
   "source": [
    "# Now that I implemented a less-than comparison, I just need to map the ints to Nodes and sort.\n",
    "sum = 0\n",
    "for update in incorrect_updates:\n",
    "    fixed = sorted(list(map(lambda d: nodes[d], update)))\n",
    "    sum += fixed[len(fixed) // 2].name\n",
    "print(sum)"
   ],
   "id": "e0548be63b582e85",
   "outputs": [
    {
     "name": "stdout",
     "output_type": "stream",
     "text": [
      "6767\n"
     ]
    }
   ],
   "execution_count": 5
  }
 ],
 "metadata": {
  "kernelspec": {
   "display_name": "Python 3",
   "language": "python",
   "name": "python3"
  },
  "language_info": {
   "codemirror_mode": {
    "name": "ipython",
    "version": 2
   },
   "file_extension": ".py",
   "mimetype": "text/x-python",
   "name": "python",
   "nbconvert_exporter": "python",
   "pygments_lexer": "ipython2",
   "version": "2.7.6"
  }
 },
 "nbformat": 4,
 "nbformat_minor": 5
}
