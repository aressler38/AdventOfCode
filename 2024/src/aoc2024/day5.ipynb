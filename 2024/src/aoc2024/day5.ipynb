{
 "cells": [
  {
   "cell_type": "code",
   "id": "initial_id",
   "metadata": {
    "collapsed": true,
    "ExecuteTime": {
     "end_time": "2024-12-05T06:52:00.182319Z",
     "start_time": "2024-12-05T06:52:00.179775Z"
    }
   },
   "source": "from dataclasses import dataclass, field\n",
   "outputs": [],
   "execution_count": 15
  },
  {
   "metadata": {
    "ExecuteTime": {
     "end_time": "2024-12-05T06:52:00.735698Z",
     "start_time": "2024-12-05T06:52:00.731448Z"
    }
   },
   "cell_type": "code",
   "source": [
    "with open(\"../../data/day05-input1.txt\") as f:\n",
    "    rules, updates = f.read().split(\"\\n\\n\")\n",
    "    updates = [list(map(lambda d: int(d), row.split(','))) for row in updates.split(\"\\n\")]\n",
    "    rules = [list(map(lambda d: int(d), r.split('|'))) for r in rules.split(\"\\n\")]"
   ],
   "id": "19a7e82f8859ff5c",
   "outputs": [],
   "execution_count": 16
  },
  {
   "metadata": {
    "ExecuteTime": {
     "end_time": "2024-12-05T06:56:57.222163Z",
     "start_time": "2024-12-05T06:56:56.505660Z"
    }
   },
   "cell_type": "code",
   "source": [
    "# sorted(rules, key=lambda r: r[0])\n",
    "\n",
    "@dataclass\n",
    "class Node:\n",
    "    name: int\n",
    "    children: set[int] = field(default_factory=set)\n",
    "    descendents: set[int] = field(default_factory=set)\n",
    "\n",
    "nodes = {}\n",
    "for a, b in rules:\n",
    "    if a not in nodes:\n",
    "        node = Node(name=a)\n",
    "        node.children.add(b)\n",
    "        node.descendents.add(b)\n",
    "        nodes[a] = node\n",
    "\n",
    "def get_descendents(root: Node) -> set[Node]:\n",
    "    descendents = set()\n",
    "    for a, b in rules:\n",
    "        if a == root.name:\n",
    "            descendents.add(b)\n",
    "            descendents = descendents | get_descendents(nodes[b])\n",
    "    return descendents\n",
    "\n",
    "for node in nodes.values():\n",
    "    # TODO -- I assumed the data wasn't circular, but it is, so handle that and then get to finishing the answer\n",
    "    node.descendents = get_descendents(node)\n"
   ],
   "id": "2b75d28b91271d5a",
   "outputs": [
    {
     "ename": "RecursionError",
     "evalue": "maximum recursion depth exceeded",
     "output_type": "error",
     "traceback": [
      "\u001B[1;31m---------------------------------------------------------------------------\u001B[0m",
      "\u001B[1;31mRecursionError\u001B[0m                            Traceback (most recent call last)",
      "Cell \u001B[1;32mIn[19], line 27\u001B[0m\n\u001B[0;32m     23\u001B[0m     \u001B[38;5;28;01mreturn\u001B[39;00m descendents\n\u001B[0;32m     25\u001B[0m \u001B[38;5;28;01mfor\u001B[39;00m node \u001B[38;5;129;01min\u001B[39;00m nodes\u001B[38;5;241m.\u001B[39mvalues():\n\u001B[0;32m     26\u001B[0m     \u001B[38;5;66;03m# TODO -- I assumed the data wasn't circular, but it is, so handle that and then get to finishing the answer\u001B[39;00m\n\u001B[1;32m---> 27\u001B[0m     node\u001B[38;5;241m.\u001B[39mdescendents \u001B[38;5;241m=\u001B[39m \u001B[43mget_descendents\u001B[49m\u001B[43m(\u001B[49m\u001B[43mnode\u001B[49m\u001B[43m)\u001B[49m\n",
      "Cell \u001B[1;32mIn[19], line 22\u001B[0m, in \u001B[0;36mget_descendents\u001B[1;34m(root)\u001B[0m\n\u001B[0;32m     20\u001B[0m     \u001B[38;5;28;01mif\u001B[39;00m a \u001B[38;5;241m==\u001B[39m root\u001B[38;5;241m.\u001B[39mname:\n\u001B[0;32m     21\u001B[0m         descendents\u001B[38;5;241m.\u001B[39madd(b)\n\u001B[1;32m---> 22\u001B[0m         descendents \u001B[38;5;241m=\u001B[39m descendents \u001B[38;5;241m|\u001B[39m \u001B[43mget_descendents\u001B[49m\u001B[43m(\u001B[49m\u001B[43mnodes\u001B[49m\u001B[43m[\u001B[49m\u001B[43mb\u001B[49m\u001B[43m]\u001B[49m\u001B[43m)\u001B[49m\n\u001B[0;32m     23\u001B[0m \u001B[38;5;28;01mreturn\u001B[39;00m descendents\n",
      "Cell \u001B[1;32mIn[19], line 22\u001B[0m, in \u001B[0;36mget_descendents\u001B[1;34m(root)\u001B[0m\n\u001B[0;32m     20\u001B[0m     \u001B[38;5;28;01mif\u001B[39;00m a \u001B[38;5;241m==\u001B[39m root\u001B[38;5;241m.\u001B[39mname:\n\u001B[0;32m     21\u001B[0m         descendents\u001B[38;5;241m.\u001B[39madd(b)\n\u001B[1;32m---> 22\u001B[0m         descendents \u001B[38;5;241m=\u001B[39m descendents \u001B[38;5;241m|\u001B[39m \u001B[43mget_descendents\u001B[49m\u001B[43m(\u001B[49m\u001B[43mnodes\u001B[49m\u001B[43m[\u001B[49m\u001B[43mb\u001B[49m\u001B[43m]\u001B[49m\u001B[43m)\u001B[49m\n\u001B[0;32m     23\u001B[0m \u001B[38;5;28;01mreturn\u001B[39;00m descendents\n",
      "    \u001B[1;31m[... skipping similar frames: get_descendents at line 22 (2974 times)]\u001B[0m\n",
      "Cell \u001B[1;32mIn[19], line 22\u001B[0m, in \u001B[0;36mget_descendents\u001B[1;34m(root)\u001B[0m\n\u001B[0;32m     20\u001B[0m     \u001B[38;5;28;01mif\u001B[39;00m a \u001B[38;5;241m==\u001B[39m root\u001B[38;5;241m.\u001B[39mname:\n\u001B[0;32m     21\u001B[0m         descendents\u001B[38;5;241m.\u001B[39madd(b)\n\u001B[1;32m---> 22\u001B[0m         descendents \u001B[38;5;241m=\u001B[39m descendents \u001B[38;5;241m|\u001B[39m \u001B[43mget_descendents\u001B[49m\u001B[43m(\u001B[49m\u001B[43mnodes\u001B[49m\u001B[43m[\u001B[49m\u001B[43mb\u001B[49m\u001B[43m]\u001B[49m\u001B[43m)\u001B[49m\n\u001B[0;32m     23\u001B[0m \u001B[38;5;28;01mreturn\u001B[39;00m descendents\n",
      "\u001B[1;31mRecursionError\u001B[0m: maximum recursion depth exceeded"
     ]
    }
   ],
   "execution_count": 19
  },
  {
   "metadata": {},
   "cell_type": "code",
   "outputs": [],
   "execution_count": null,
   "source": "",
   "id": "2ccf475d97d5ee28"
  },
  {
   "metadata": {},
   "cell_type": "code",
   "outputs": [],
   "execution_count": null,
   "source": "",
   "id": "a37b44c847e0a8f"
  }
 ],
 "metadata": {
  "kernelspec": {
   "display_name": "Python 3",
   "language": "python",
   "name": "python3"
  },
  "language_info": {
   "codemirror_mode": {
    "name": "ipython",
    "version": 2
   },
   "file_extension": ".py",
   "mimetype": "text/x-python",
   "name": "python",
   "nbconvert_exporter": "python",
   "pygments_lexer": "ipython2",
   "version": "2.7.6"
  }
 },
 "nbformat": 4,
 "nbformat_minor": 5
}
