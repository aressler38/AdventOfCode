{
 "cells": [
  {
   "cell_type": "code",
   "id": "initial_id",
   "metadata": {
    "collapsed": true,
    "ExecuteTime": {
     "end_time": "2024-12-17T05:09:12.578232Z",
     "start_time": "2024-12-17T05:09:12.575234Z"
    }
   },
   "source": "from enum import Enum",
   "outputs": [],
   "execution_count": 4
  },
  {
   "metadata": {
    "ExecuteTime": {
     "end_time": "2024-12-17T05:09:12.597830Z",
     "start_time": "2024-12-17T05:09:12.592940Z"
    }
   },
   "cell_type": "code",
   "source": [
    "class CardinalDirection(Enum):\n",
    "    UP = 0\n",
    "    LEFT = 1\n",
    "    DOWN = 2\n",
    "    RIGHT = 3\n",
    "\n",
    "\n",
    "class GridObject:\n",
    "    def __init__(self, position: tuple[int, int]):\n",
    "        self.position = position\n",
    "    def __repr__(self):\n",
    "        return f'{self.__class__.__name__}({self.position})'\n",
    "\n",
    "class EmptySquare(GridObject):\n",
    "    def __init__(self, x, y):\n",
    "        super().__init__((x,y))\n",
    "\n",
    "class Wall(GridObject):\n",
    "    def __init__(self, x, y):\n",
    "        super().__init__((x, y))\n",
    "\n",
    "class Actor(GridObject):\n",
    "    def __init__(self, x: int, y: int):\n",
    "        super().__init__((x, y))\n",
    "\n",
    "\n",
    "class Grid:\n",
    "    def __init__(self):\n",
    "        self.start = EmptySquare(0, 0)\n",
    "        self.end = EmptySquare(0, 0)\n",
    "        self.index: dict[tuple[int,int], GridObject] = {}\n",
    "        self.data = []\n",
    "\n",
    "    def load(self):\n",
    "        with open(\"../../data/day16-input.txt\") as f:\n",
    "            for y, line in enumerate(f.readlines()):\n",
    "                row = []\n",
    "                for x, c in enumerate(line.strip()):\n",
    "                    if c == '#':\n",
    "                        item = Wall(x, y)\n",
    "                    elif c == 'S':\n",
    "                        item = self.start\n",
    "                        self.start.position = x, y\n",
    "                    elif c == 'E':\n",
    "                        item = self.end\n",
    "                        self.end.position = x, y\n",
    "                    elif c == '.':\n",
    "                        item = EmptySquare(x, y)\n",
    "                    else:\n",
    "                        raise ValueError(\"Unhandled: \" + c)\n",
    "                    row.append(item)\n",
    "                    self.index[(x,y)] = item\n",
    "                self.data.append(row)\n",
    "        return self\n",
    "\n"
   ],
   "id": "1e379499c192451e",
   "outputs": [],
   "execution_count": 5
  },
  {
   "metadata": {
    "ExecuteTime": {
     "end_time": "2024-12-17T05:09:12.643001Z",
     "start_time": "2024-12-17T05:09:12.606835Z"
    }
   },
   "cell_type": "code",
   "source": "grid = Grid().load()",
   "id": "130a45993a0a01f4",
   "outputs": [],
   "execution_count": 6
  },
  {
   "metadata": {
    "ExecuteTime": {
     "end_time": "2024-12-17T05:09:12.649760Z",
     "start_time": "2024-12-17T05:09:12.648186Z"
    }
   },
   "cell_type": "code",
   "source": "",
   "id": "471d5749a701ae46",
   "outputs": [],
   "execution_count": null
  }
 ],
 "metadata": {
  "kernelspec": {
   "display_name": "Python 3",
   "language": "python",
   "name": "python3"
  },
  "language_info": {
   "codemirror_mode": {
    "name": "ipython",
    "version": 2
   },
   "file_extension": ".py",
   "mimetype": "text/x-python",
   "name": "python",
   "nbconvert_exporter": "python",
   "pygments_lexer": "ipython2",
   "version": "2.7.6"
  }
 },
 "nbformat": 4,
 "nbformat_minor": 5
}
