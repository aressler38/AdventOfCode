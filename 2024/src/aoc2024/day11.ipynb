{
 "cells": [
  {
   "cell_type": "code",
   "id": "initial_id",
   "metadata": {
    "collapsed": true,
    "ExecuteTime": {
     "end_time": "2024-12-13T03:27:28.098935Z",
     "start_time": "2024-12-13T03:27:28.095932Z"
    }
   },
   "source": [
    "import sys\n",
    "import functools"
   ],
   "outputs": [],
   "execution_count": 1
  },
  {
   "metadata": {
    "ExecuteTime": {
     "end_time": "2024-12-13T03:27:28.130794Z",
     "start_time": "2024-12-13T03:27:28.100969Z"
    }
   },
   "cell_type": "code",
   "source": [
    "class Node:\n",
    "    def __init__(self, value: int, left: 'Node' = None, right: 'Node' = None):\n",
    "        self.value = value\n",
    "        self.left = left\n",
    "        self.right = right\n",
    "\n",
    "    def __repr__(self):\n",
    "        return f'{self.value}: ({self.left}, {self.right})'\n",
    "\n",
    "    def is_leaf(self) -> bool:\n",
    "        return self.left is None and self.right is None\n",
    "\n",
    "    @classmethod\n",
    "    def from_int(cls, node: int) -> 'Node':\n",
    "        return cls(node, None, None)\n",
    "\n",
    "    def as_string(self) -> str:\n",
    "        return str(self.value)\n"
   ],
   "id": "7f98ae087b450a6",
   "outputs": [],
   "execution_count": 2
  },
  {
   "metadata": {
    "ExecuteTime": {
     "end_time": "2024-12-13T03:27:28.229502Z",
     "start_time": "2024-12-13T03:27:28.226989Z"
    }
   },
   "cell_type": "code",
   "source": [
    "def load_input() -> list[Node]:\n",
    "    with open('../../data/day11-input.txt') as f:\n",
    "        return [Node.from_int(int(x)) for x in f.read().strip().split(' ')]\n"
   ],
   "id": "41b63ed3a635088a",
   "outputs": [],
   "execution_count": 3
  },
  {
   "metadata": {
    "ExecuteTime": {
     "end_time": "2024-12-13T03:27:28.734751Z",
     "start_time": "2024-12-13T03:27:28.233083Z"
    }
   },
   "cell_type": "code",
   "source": [
    "def apply_rules(node: Node) -> tuple[Node]|tuple[Node,Node]:\n",
    "    \"\"\"What does it become?\"\"\"\n",
    "    if node.value == 0:\n",
    "        return (Node.from_int(1),)\n",
    "    else:\n",
    "        as_string = node.as_string()\n",
    "        if len(as_string) % 2 == 0:\n",
    "            return (Node.from_int(int(as_string[:len(as_string) // 2])), Node.from_int(int(as_string[len(as_string) // 2:])))\n",
    "        else:\n",
    "            return (Node.from_int(2024*node.value),)\n",
    "\n",
    "def process_input(blink_count: int = 0) -> list[Node]:\n",
    "    nodes = load_input()\n",
    "\n",
    "    for blink in range(blink_count):\n",
    "        next_nodes = []\n",
    "        for i, node in enumerate(nodes):\n",
    "            result = apply_rules(node)\n",
    "            if len(result) == 1:\n",
    "                node.left = result[0]\n",
    "                next_nodes.append(result[0])\n",
    "            else:\n",
    "                node.left = result[0]\n",
    "                next_nodes.append(result[0])\n",
    "                node.right = result[1]\n",
    "                next_nodes.append(result[1])\n",
    "        nodes = next_nodes\n",
    "    return nodes\n",
    "\n",
    "def traverse(node):\n",
    "    results = []\n",
    "    if node.is_leaf():\n",
    "        return [node.value]\n",
    "    else:\n",
    "        if node.left:\n",
    "            results = results + traverse(node.left)\n",
    "        if node.right:\n",
    "            results = results + traverse(node.right)\n",
    "    return results\n",
    "\n",
    "nodes = process_input(25)\n",
    "counter = 0\n",
    "for node in nodes:\n",
    "    for i in traverse(node):\n",
    "        counter += 1\n",
    "print('counter =', counter)"
   ],
   "id": "72a4b3ed6130e51e",
   "outputs": [
    {
     "name": "stdout",
     "output_type": "stream",
     "text": [
      "counter = 207683\n"
     ]
    }
   ],
   "execution_count": 4
  },
  {
   "metadata": {},
   "cell_type": "markdown",
   "source": [
    "### Part 2\n",
    "\n",
    "\n",
    "New strategy. I'm memoizing as much as I can. We are only looking for the count of stones.\n",
    "I originally thought it'd be nice to build a tree so that I could see the ancestry, but\n",
    "75 (even 25) iterations is just way too much. My PC maxed out 64 GB of ram and eventually crashed.\n"
   ],
   "id": "597f9558a62f2157"
  },
  {
   "metadata": {
    "ExecuteTime": {
     "end_time": "2024-12-13T03:27:28.752529Z",
     "start_time": "2024-12-13T03:27:28.744229Z"
    }
   },
   "cell_type": "code",
   "source": "del apply_rules, process_input, node, nodes, load_input",
   "id": "4852452945425747",
   "outputs": [],
   "execution_count": 5
  },
  {
   "metadata": {
    "ExecuteTime": {
     "end_time": "2024-12-13T03:27:28.760906Z",
     "start_time": "2024-12-13T03:27:28.757304Z"
    }
   },
   "cell_type": "code",
   "source": [
    "def load_input() -> list[int]:\n",
    "    with open('../../data/day11-input.txt') as f:\n",
    "        return [int(x) for x in f.read().strip().split(' ')]\n",
    "\n",
    "@functools.lru_cache(maxsize=None)\n",
    "def get_tens():\n",
    "    tens = []\n",
    "    value = 10\n",
    "    while value < sys.maxsize:\n",
    "        tens.append(value)\n",
    "        value *= 10\n",
    "    return tens\n",
    "\n",
    "@functools.lru_cache(maxsize=None)\n",
    "def count_digits(num: int) -> int:\n",
    "    tens = get_tens()\n",
    "    for i, x in enumerate(tens):\n",
    "        if num < x:\n",
    "            return i+1\n",
    "    raise ValueError(\"Unhandled value: {}\".format(num))\n",
    "\n",
    "@functools.lru_cache(maxsize=None)\n",
    "def get_splitter(length: int):\n",
    "    return 10**(length//2)\n",
    "\n",
    "@functools.lru_cache(maxsize=None)\n",
    "def split_even_length_number(num: int) -> tuple[int, int]:\n",
    "    splitter = get_splitter(count_digits(num))\n",
    "    return (num // splitter, num % splitter)\n"
   ],
   "id": "805d74502d1a3046",
   "outputs": [],
   "execution_count": 6
  },
  {
   "metadata": {
    "ExecuteTime": {
     "end_time": "2024-12-13T03:27:28.770877Z",
     "start_time": "2024-12-13T03:27:28.765680Z"
    }
   },
   "cell_type": "code",
   "source": [
    "\n",
    "def apply_rules(stone: int) -> tuple[int]|tuple[int, int]:\n",
    "    \"\"\"What does it become?\"\"\"\n",
    "    if stone == 0:\n",
    "        return (1,)\n",
    "    else:\n",
    "        num_digits = count_digits(stone)\n",
    "        if num_digits % 2 == 0:\n",
    "            return split_even_length_number(stone)\n",
    "        else:\n",
    "            return (2024*stone,)\n",
    "\n",
    "def process_input(blink_count: int) -> dict[int, int]:\n",
    "    stones = {}\n",
    "    for stone in load_input():\n",
    "        if stone not in stones:\n",
    "            stones[stone] = 1\n",
    "        else:\n",
    "            stones[stone] += 1\n",
    "\n",
    "    for blink in range(blink_count):\n",
    "        intermediates = {}\n",
    "        for stone, count in stones.items():\n",
    "            for rock in apply_rules(stone):\n",
    "                if rock in intermediates:\n",
    "                    intermediates[rock] += count\n",
    "                else:\n",
    "                    intermediates[rock] = count\n",
    "        stones = intermediates\n",
    "\n",
    "    return stones\n",
    "\n",
    "\n",
    "assert 207683 == sum(process_input(25).values())"
   ],
   "id": "5e8b661aa10929db",
   "outputs": [],
   "execution_count": 7
  },
  {
   "metadata": {
    "ExecuteTime": {
     "end_time": "2024-12-13T03:27:28.821406Z",
     "start_time": "2024-12-13T03:27:28.774626Z"
    }
   },
   "cell_type": "code",
   "source": "print(sum(process_input(75).values()))",
   "id": "28712b13bae023a8",
   "outputs": [
    {
     "name": "stdout",
     "output_type": "stream",
     "text": [
      "244782991106220\n"
     ]
    }
   ],
   "execution_count": 8
  }
 ],
 "metadata": {
  "kernelspec": {
   "display_name": "Python 3",
   "language": "python",
   "name": "python3"
  },
  "language_info": {
   "codemirror_mode": {
    "name": "ipython",
    "version": 2
   },
   "file_extension": ".py",
   "mimetype": "text/x-python",
   "name": "python",
   "nbconvert_exporter": "python",
   "pygments_lexer": "ipython2",
   "version": "2.7.6"
  }
 },
 "nbformat": 4,
 "nbformat_minor": 5
}
