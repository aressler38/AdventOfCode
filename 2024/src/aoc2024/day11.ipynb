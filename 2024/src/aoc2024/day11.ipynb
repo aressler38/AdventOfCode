{
 "cells": [
  {
   "cell_type": "code",
   "id": "initial_id",
   "metadata": {
    "collapsed": true,
    "ExecuteTime": {
     "end_time": "2024-12-11T05:09:15.818902Z",
     "start_time": "2024-12-11T05:09:15.815903Z"
    }
   },
   "source": "",
   "outputs": [],
   "execution_count": 2
  },
  {
   "metadata": {
    "ExecuteTime": {
     "end_time": "2024-12-11T05:50:19.202851Z",
     "start_time": "2024-12-11T05:50:19.198152Z"
    }
   },
   "cell_type": "code",
   "source": [
    "class Node:\n",
    "    def __init__(self, value: int, left: 'Node' = None, right: 'Node' = None):\n",
    "        self.value = value\n",
    "        self.left = left\n",
    "        self.right = right\n",
    "\n",
    "    def __repr__(self):\n",
    "        return f'{self.value}: ({self.left}, {self.right})'\n",
    "\n",
    "    def is_leaf(self) -> bool:\n",
    "        return self.left is None and self.right is None\n",
    "\n",
    "    @classmethod\n",
    "    def from_int(cls, node: int) -> 'Node':\n",
    "        return cls(node, None, None)\n",
    "\n",
    "    def as_string(self) -> str:\n",
    "        return str(self.value)\n"
   ],
   "id": "7f98ae087b450a6",
   "outputs": [],
   "execution_count": 11
  },
  {
   "metadata": {
    "ExecuteTime": {
     "end_time": "2024-12-11T05:50:19.615908Z",
     "start_time": "2024-12-11T05:50:19.612877Z"
    }
   },
   "cell_type": "code",
   "source": [
    "def load_input() -> list[Node]:\n",
    "    with open('../../data/day11-input.txt') as f:\n",
    "        return [Node.from_int(int(x)) for x in f.read().strip().split(' ')]\n"
   ],
   "id": "41b63ed3a635088a",
   "outputs": [],
   "execution_count": 12
  },
  {
   "metadata": {
    "ExecuteTime": {
     "end_time": "2024-12-11T06:04:20.139402Z",
     "start_time": "2024-12-11T06:04:19.504853Z"
    }
   },
   "cell_type": "code",
   "source": [
    "def apply_rules(node: Node) -> tuple[Node]|tuple[Node,Node]:\n",
    "    \"\"\"What does it become?\"\"\"\n",
    "    if node.value == 0:\n",
    "        return (Node.from_int(1),)\n",
    "    else:\n",
    "        as_string = node.as_string()\n",
    "        if len(as_string) % 2 == 0:\n",
    "            return (Node.from_int(int(as_string[:len(as_string) // 2])), Node.from_int(int(as_string[len(as_string) // 2:])))\n",
    "        else:\n",
    "            return (Node.from_int(2024*node.value),)\n",
    "\n",
    "def process_input(blink_count: int = 0) -> list[Node]:\n",
    "    nodes = load_input()\n",
    "\n",
    "    for blink in range(blink_count):\n",
    "        next_nodes = []\n",
    "        for i, node in enumerate(nodes):\n",
    "            result = apply_rules(node)\n",
    "            if len(result) == 1:\n",
    "                node.left = result[0]\n",
    "                next_nodes.append(result[0])\n",
    "            else:\n",
    "                node.left = result[0]\n",
    "                next_nodes.append(result[0])\n",
    "                node.right = result[1]\n",
    "                next_nodes.append(result[1])\n",
    "        nodes = next_nodes\n",
    "    return nodes\n",
    "\n",
    "\n",
    "def traverse(node):\n",
    "    results = []\n",
    "    if node.is_leaf():\n",
    "        return [node.value]\n",
    "    else:\n",
    "        if node.left:\n",
    "            results = results + traverse(node.left)\n",
    "        if node.right:\n",
    "            results = results + traverse(node.right)\n",
    "    return results\n",
    "\n",
    "nodes = process_input(25)\n",
    "counter = 0\n",
    "for node in nodes:\n",
    "    for i in traverse(node):\n",
    "        counter += 1\n",
    "        #print(i)\n",
    "print('counter =', counter)\n"
   ],
   "id": "72a4b3ed6130e51e",
   "outputs": [
    {
     "name": "stdout",
     "output_type": "stream",
     "text": [
      "counter = 207683\n"
     ]
    }
   ],
   "execution_count": 29
  },
  {
   "metadata": {},
   "cell_type": "markdown",
   "source": "### Part 2",
   "id": "597f9558a62f2157"
  },
  {
   "metadata": {
    "ExecuteTime": {
     "end_time": "2024-12-11T10:44:43.353791Z",
     "start_time": "2024-12-11T06:05:22.872419Z"
    }
   },
   "cell_type": "code",
   "source": [
    "nodes = process_input(75)\n",
    "counter = 0\n",
    "for node in nodes:\n",
    "    for i in traverse(node):\n",
    "        counter += 1\n",
    "        #print(i)\n",
    "print('counter =', counter)\n"
   ],
   "id": "4852452945425747",
   "outputs": [
    {
     "ename": "MemoryError",
     "evalue": "",
     "output_type": "error",
     "traceback": [
      "\u001B[1;31m---------------------------------------------------------------------------\u001B[0m",
      "\u001B[1;31mMemoryError\u001B[0m                               Traceback (most recent call last)",
      "Cell \u001B[1;32mIn[30], line 1\u001B[0m\n\u001B[1;32m----> 1\u001B[0m nodes \u001B[38;5;241m=\u001B[39m \u001B[43mprocess_input\u001B[49m\u001B[43m(\u001B[49m\u001B[38;5;241;43m75\u001B[39;49m\u001B[43m)\u001B[49m\n\u001B[0;32m      2\u001B[0m counter \u001B[38;5;241m=\u001B[39m \u001B[38;5;241m0\u001B[39m\n\u001B[0;32m      3\u001B[0m \u001B[38;5;28;01mfor\u001B[39;00m node \u001B[38;5;129;01min\u001B[39;00m nodes:\n",
      "Cell \u001B[1;32mIn[29], line 26\u001B[0m, in \u001B[0;36mprocess_input\u001B[1;34m(blink_count)\u001B[0m\n\u001B[0;32m     24\u001B[0m             next_nodes\u001B[38;5;241m.\u001B[39mappend(result[\u001B[38;5;241m0\u001B[39m])\n\u001B[0;32m     25\u001B[0m             node\u001B[38;5;241m.\u001B[39mright \u001B[38;5;241m=\u001B[39m result[\u001B[38;5;241m1\u001B[39m]\n\u001B[1;32m---> 26\u001B[0m             \u001B[43mnext_nodes\u001B[49m\u001B[38;5;241;43m.\u001B[39;49m\u001B[43mappend\u001B[49m\u001B[43m(\u001B[49m\u001B[43mresult\u001B[49m\u001B[43m[\u001B[49m\u001B[38;5;241;43m1\u001B[39;49m\u001B[43m]\u001B[49m\u001B[43m)\u001B[49m\n\u001B[0;32m     27\u001B[0m     nodes \u001B[38;5;241m=\u001B[39m next_nodes\n\u001B[0;32m     28\u001B[0m \u001B[38;5;28;01mreturn\u001B[39;00m nodes\n",
      "\u001B[1;31mMemoryError\u001B[0m: "
     ]
    }
   ],
   "execution_count": 30
  },
  {
   "metadata": {},
   "cell_type": "code",
   "outputs": [],
   "execution_count": null,
   "source": "",
   "id": "c9c963eee7025a9"
  }
 ],
 "metadata": {
  "kernelspec": {
   "display_name": "Python 3",
   "language": "python",
   "name": "python3"
  },
  "language_info": {
   "codemirror_mode": {
    "name": "ipython",
    "version": 2
   },
   "file_extension": ".py",
   "mimetype": "text/x-python",
   "name": "python",
   "nbconvert_exporter": "python",
   "pygments_lexer": "ipython2",
   "version": "2.7.6"
  }
 },
 "nbformat": 4,
 "nbformat_minor": 5
}
