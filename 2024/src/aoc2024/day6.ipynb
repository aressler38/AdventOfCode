{
 "cells": [
  {
   "metadata": {
    "ExecuteTime": {
     "end_time": "2024-12-07T04:49:22.805410Z",
     "start_time": "2024-12-07T04:49:22.801884Z"
    }
   },
   "cell_type": "code",
   "source": [
    "class Blocker:\n",
    "    def __init__(self):\n",
    "        self.blocked_counter = {\n",
    "            'up': 0,\n",
    "            'down': 0,\n",
    "            'left': 0,\n",
    "            'right': 0,\n",
    "        }"
   ],
   "id": "144f54f05c6f6783",
   "outputs": [],
   "execution_count": 1
  },
  {
   "metadata": {
    "collapsed": true,
    "ExecuteTime": {
     "end_time": "2024-12-07T04:49:22.821811Z",
     "start_time": "2024-12-07T04:49:22.814578Z"
    }
   },
   "cell_type": "code",
   "source": [
    "with open(\"../../data/day06-input.txt\") as f:\n",
    "    GRID = []\n",
    "    i = 0\n",
    "    for line in f.readlines():\n",
    "        line = line.strip()\n",
    "        row = []\n",
    "        j = 0\n",
    "        for char in line:\n",
    "            if char == '.':\n",
    "                row.append(False)\n",
    "            elif char == '^':\n",
    "                STARTING_POSITION = (i, j)\n",
    "                STARTING_HEADING = \"up\"\n",
    "                row.append(False)\n",
    "            else:\n",
    "                # There is an obstruction at this spot\n",
    "                row.append(True)\n",
    "            j += 1\n",
    "        i += 1\n",
    "        GRID.append(row)\n",
    "    del line, i, j"
   ],
   "id": "initial_id",
   "outputs": [],
   "execution_count": 2
  },
  {
   "metadata": {},
   "cell_type": "markdown",
   "source": [
    "### Note\n",
    "After solving this the brute force way, I realize optimizing it could be done by:\n",
    "(1) instead of simulating the path walk, I could have used the row and column values\n",
    "to determine if the entire path is clear or not, and (2) only considering the squares\n",
    "where the agent moved to be candidates for placing a new blocker to cause a loop.\n",
    "Since the vectors of travel can be recorded on the blocker objects for the initial\n",
    "run through, we can use that information to locate three blockers that meet criteria\n",
    "for the construction of the loop. In addition to being positioned, that criteria\n",
    "requires the blockers to have mutually exclusive movement counters so that upon\n",
    "placing the fourth, the agent will trigger all four cardinal direction counters just once."
   ],
   "id": "875cc27102e3c6a5"
  },
  {
   "metadata": {
    "ExecuteTime": {
     "end_time": "2024-12-07T04:49:22.975555Z",
     "start_time": "2024-12-07T04:49:22.972573Z"
    }
   },
   "cell_type": "code",
   "source": [
    "DIMENSIONS = (len(GRID), len(GRID[0]))\n",
    "MOVEMENT = {\n",
    "    'up': lambda i, j: (i - 1, j),\n",
    "    'down': lambda i, j: (i + 1, j),\n",
    "    'left': lambda i, j: (i, j - 1),\n",
    "    'right': lambda i, j: (i, j + 1),\n",
    "}\n",
    "MOVEMENT_ORDER = ['up', 'right', 'down', 'left']\n",
    "MARKER = 'X'"
   ],
   "id": "f8ea74e654ae811d",
   "outputs": [],
   "execution_count": 3
  },
  {
   "metadata": {
    "ExecuteTime": {
     "end_time": "2024-12-07T04:49:22.985766Z",
     "start_time": "2024-12-07T04:49:22.981515Z"
    }
   },
   "cell_type": "code",
   "source": [
    "def get_next_heading(heading):\n",
    "    return MOVEMENT_ORDER[(MOVEMENT_ORDER.index(heading) + 1) % len(MOVEMENT_ORDER)]\n",
    "\n",
    "def get_next_position(position: tuple[int, int], heading):\n",
    "    return MOVEMENT[heading](*position)\n",
    "\n",
    "def is_pos_out_of_bounds(position: tuple[int, int]):\n",
    "    if position[0] < 0 or position[0] >= DIMENSIONS[0] \\\n",
    "            or position[1] < 0 or position[1] >= DIMENSIONS[1]:\n",
    "        return True\n",
    "    return False\n",
    "\n",
    "def is_pos_occupied(position: tuple[int, int], grid: list[list]) -> bool:\n",
    "    value =grid[position[0]][position[1]]\n",
    "    return isinstance(value, Blocker)\n",
    "\n",
    "def init_grid() -> list[list[Blocker | bool]]:\n",
    "    new_grid = []\n",
    "    for row in GRID:\n",
    "        new_row = []\n",
    "        for col in row:\n",
    "            if col == True:\n",
    "                new_row.append(Blocker())\n",
    "            else:\n",
    "                new_row.append(False)\n",
    "        new_grid.append(new_row)\n",
    "    return new_grid\n",
    "\n",
    "def count_marked_positions(grid: list[list[bool or 'X']]) -> int:\n",
    "    count = 0\n",
    "    for row in grid:\n",
    "        for col in row:\n",
    "            if col == 'X':\n",
    "                count += 1\n",
    "    return count\n",
    "\n",
    "def mark_position(position: tuple[int, int], grid: list[list[bool or 'X']]):\n",
    "    grid[position[0]][position[1]] = MARKER"
   ],
   "id": "4dd8c15038eb1adc",
   "outputs": [],
   "execution_count": 4
  },
  {
   "metadata": {
    "ExecuteTime": {
     "end_time": "2024-12-07T04:49:22.998717Z",
     "start_time": "2024-12-07T04:49:22.991232Z"
    }
   },
   "cell_type": "code",
   "source": [
    "i = 0\n",
    "max_iter = 1e8\n",
    "current_heading = STARTING_HEADING\n",
    "current_position = STARTING_POSITION\n",
    "current_grid = init_grid()\n",
    "mark_position(current_position, current_grid)\n",
    "while i < max_iter:\n",
    "    next_position = get_next_position(current_position, current_heading)\n",
    "    if is_pos_out_of_bounds(next_position):\n",
    "        mark_position(current_position, current_grid)\n",
    "        break\n",
    "    if is_pos_occupied(next_position, current_grid):\n",
    "        current_heading = get_next_heading(current_heading)\n",
    "        continue\n",
    "\n",
    "    mark_position(current_position, current_grid)\n",
    "    current_position = next_position\n",
    "    i += 1\n",
    "\n",
    "\n",
    "print('Took %s iterations' % i)\n",
    "print('Marked %s positions' % count_marked_positions(current_grid))"
   ],
   "id": "4f0d158da0145057",
   "outputs": [
    {
     "name": "stdout",
     "output_type": "stream",
     "text": [
      "Took 5456 iterations\n",
      "Marked 4939 positions\n"
     ]
    }
   ],
   "execution_count": 5
  },
  {
   "metadata": {
    "ExecuteTime": {
     "end_time": "2024-12-07T04:49:23.020629Z",
     "start_time": "2024-12-07T04:49:23.012960Z"
    }
   },
   "cell_type": "code",
   "source": [
    "with open('./day6_current_grid.txt', 'w') as f:\n",
    "    for row in current_grid:\n",
    "        for col in row:\n",
    "            if col == 'X':\n",
    "                f.write('X')\n",
    "            elif isinstance(col, Blocker):\n",
    "                f.write('#')\n",
    "            else:\n",
    "                f.write('.')\n",
    "        f.write('\\n')\n",
    "\n",
    "    f.write('\\n')"
   ],
   "id": "b3acccca645f3c00",
   "outputs": [],
   "execution_count": 6
  },
  {
   "metadata": {
    "ExecuteTime": {
     "end_time": "2024-12-07T04:50:15.861213Z",
     "start_time": "2024-12-07T04:49:23.026670Z"
    }
   },
   "cell_type": "code",
   "source": [
    "max_iter = 1e8\n",
    "counter = 0\n",
    "i = 0\n",
    "\n",
    "def iter_grid_positions():\n",
    "    for x in range(DIMENSIONS[0]):\n",
    "        for y in range(DIMENSIONS[1]):\n",
    "            yield (x, y)\n",
    "\n",
    "for trial_position in iter_grid_positions():\n",
    "    # It is a blocked space\n",
    "    if GRID[trial_position[0]][trial_position[1]]:\n",
    "        continue\n",
    "    # It is the starting position\n",
    "    if trial_position == STARTING_POSITION:\n",
    "        continue\n",
    "\n",
    "    causes_loop = False\n",
    "    current_heading = STARTING_HEADING\n",
    "    current_position = STARTING_POSITION\n",
    "    current_grid = init_grid()\n",
    "    current_grid[trial_position[0]][trial_position[1]] = Blocker()\n",
    "    mark_position(current_position, current_grid)\n",
    "    while i < max_iter:\n",
    "        next_position = get_next_position(current_position, current_heading)\n",
    "        if is_pos_out_of_bounds(next_position):\n",
    "            mark_position(current_position, current_grid)\n",
    "            break\n",
    "        if is_pos_occupied(next_position, current_grid):\n",
    "            item = current_grid[next_position[0]][next_position[1]]\n",
    "            if item.blocked_counter[current_heading] > 0:\n",
    "                # loop detected\n",
    "                causes_loop = True\n",
    "                break\n",
    "            item.blocked_counter[current_heading] += 1\n",
    "            current_heading = get_next_heading(current_heading)\n",
    "            continue\n",
    "\n",
    "        mark_position(current_position, current_grid)\n",
    "        current_position = next_position\n",
    "        i += 1\n",
    "\n",
    "    if causes_loop:\n",
    "        counter += 1\n",
    "\n",
    "assert i != max_iter, 'Reached max iterations'\n",
    "\n",
    "print('Took %s iterations' % i)\n",
    "print('Total positions causing a loop: %s' % counter)"
   ],
   "id": "7455c751e9b46328",
   "outputs": [
    {
     "name": "stdout",
     "output_type": "stream",
     "text": [
      "Took 77071576 iterations\n",
      "Total positions causing a loop: 1434\n"
     ]
    }
   ],
   "execution_count": 7
  }
 ],
 "metadata": {
  "kernelspec": {
   "display_name": "Python 3",
   "language": "python",
   "name": "python3"
  },
  "language_info": {
   "codemirror_mode": {
    "name": "ipython",
    "version": 2
   },
   "file_extension": ".py",
   "mimetype": "text/x-python",
   "name": "python",
   "nbconvert_exporter": "python",
   "pygments_lexer": "ipython2",
   "version": "2.7.6"
  }
 },
 "nbformat": 4,
 "nbformat_minor": 5
}
