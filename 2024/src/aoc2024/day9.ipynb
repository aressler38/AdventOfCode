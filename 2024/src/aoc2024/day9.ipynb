{
 "cells": [
  {
   "metadata": {
    "collapsed": true,
    "ExecuteTime": {
     "end_time": "2024-12-10T03:13:32.255238Z",
     "start_time": "2024-12-10T03:13:32.251237Z"
    }
   },
   "cell_type": "code",
   "source": [
    "FREE_SPACE = -1\n",
    "def load_data() -> list[int]:\n",
    "    with open('../../data/day09-input.txt') as f:\n",
    "        i = 0\n",
    "        writing = True\n",
    "        data = []\n",
    "        for c in f.read():\n",
    "            if writing:\n",
    "                for j in range(int(c)):\n",
    "                    data.append(i)\n",
    "                i += 1\n",
    "                writing = False\n",
    "            else:\n",
    "                for j in range(int(c)):\n",
    "                    data.append(FREE_SPACE)\n",
    "                writing = True\n",
    "        del i, writing, c\n",
    "    return data"
   ],
   "id": "initial_id",
   "outputs": [],
   "execution_count": 4
  },
  {
   "metadata": {
    "ExecuteTime": {
     "end_time": "2024-12-10T03:13:49.519584Z",
     "start_time": "2024-12-10T03:13:32.883174Z"
    }
   },
   "cell_type": "code",
   "source": [
    "def is_defragged(data: list[int]) -> bool:\n",
    "    index_of_first_free_space = data.index(FREE_SPACE)\n",
    "    index_of_last_non_space = len(data) - 1\n",
    "    for i in range(len(data)-1, -1, -1):\n",
    "        if data[i] != FREE_SPACE:\n",
    "            index_of_last_non_space = i\n",
    "            break\n",
    "    if index_of_first_free_space < index_of_last_non_space:\n",
    "        return False\n",
    "    return True\n",
    "\n",
    "def fragment_parts(data: list[int]) -> list[int]:\n",
    "    while not is_defragged(data):\n",
    "        for i in range(len(data)-1, -1, -1):\n",
    "            if data[i] == FREE_SPACE:\n",
    "                continue\n",
    "            free_space_index = data.index(FREE_SPACE)\n",
    "            if free_space_index < i:\n",
    "                data[free_space_index] = data[i]\n",
    "                data[i] = FREE_SPACE\n",
    "    return data\n",
    "\n",
    "data = load_data()\n",
    "data = fragment_parts(data)"
   ],
   "id": "c3ae572f2f99c19c",
   "outputs": [],
   "execution_count": 5
  },
  {
   "metadata": {
    "ExecuteTime": {
     "end_time": "2024-12-10T03:13:49.533696Z",
     "start_time": "2024-12-10T03:13:49.524594Z"
    }
   },
   "cell_type": "code",
   "source": [
    "sum = 0\n",
    "for i, d in enumerate(data):\n",
    "    if d == FREE_SPACE:\n",
    "        break\n",
    "    sum += i * d\n",
    "print(sum)"
   ],
   "id": "1aef8bda307b3d5c",
   "outputs": [
    {
     "name": "stdout",
     "output_type": "stream",
     "text": [
      "6382875730645\n"
     ]
    }
   ],
   "execution_count": 6
  },
  {
   "metadata": {},
   "cell_type": "markdown",
   "source": "### Part 2",
   "id": "57b9b14c190e030a"
  },
  {
   "metadata": {
    "ExecuteTime": {
     "end_time": "2024-12-10T03:14:07.606680Z",
     "start_time": "2024-12-10T03:14:07.602681Z"
    }
   },
   "cell_type": "code",
   "source": [
    "class FileTracker:\n",
    "    def __init__(self, file_id: int, start_index: int, size: int):\n",
    "        self.file_id = file_id\n",
    "        self.start_index = start_index\n",
    "        self.size = size\n",
    "    def __repr__(self):\n",
    "        return f'{self.file_id}:{self.start_index}:{self.size}'\n",
    "\n",
    "def load_data() -> tuple[list[int], dict[int, FileTracker], int]:\n",
    "    \"\"\"\n",
    "    Now I am going to calculate space requirements for each file ID\n",
    "    \"\"\"\n",
    "    with (open('../../data/day09-input.txt') as f):\n",
    "        file_id = 0\n",
    "        writing = True\n",
    "        data = []\n",
    "        file_trackers = {}\n",
    "        index = 0\n",
    "        for c in f.read():\n",
    "            if writing:\n",
    "                file_size = int(c)\n",
    "                tracker = FileTracker(file_id, index, file_size)\n",
    "                for j in range(file_size):\n",
    "                    data.append(file_id)\n",
    "                    index += 1\n",
    "                file_trackers[file_id] = tracker\n",
    "                file_id += 1\n",
    "                writing = False\n",
    "            else:\n",
    "                for j in range(int(c)):\n",
    "                    data.append(FREE_SPACE)\n",
    "                    index += 1\n",
    "                writing = True\n",
    "    return data, file_trackers, file_id-1\n"
   ],
   "id": "2f853b66be449237",
   "outputs": [],
   "execution_count": 7
  },
  {
   "metadata": {
    "ExecuteTime": {
     "end_time": "2024-12-10T03:14:11.941833Z",
     "start_time": "2024-12-10T03:14:11.929628Z"
    }
   },
   "cell_type": "code",
   "source": "data, file_trackers, max_file_id = load_data()",
   "id": "9dc8c82b207b31f1",
   "outputs": [],
   "execution_count": 8
  },
  {
   "metadata": {
    "ExecuteTime": {
     "end_time": "2024-12-10T03:14:13.944630Z",
     "start_time": "2024-12-10T03:14:13.941206Z"
    }
   },
   "cell_type": "code",
   "source": [
    "def find_contiguous_free_spaces(data: list[int], minimum: int) -> int:\n",
    "    i = 0\n",
    "    for i in range(len(data)):\n",
    "        if data[i] == FREE_SPACE:\n",
    "            found = True\n",
    "            for j in range(i, i + minimum):\n",
    "                if data[j] != FREE_SPACE:\n",
    "                    found = False\n",
    "                    break\n",
    "            if found:\n",
    "                return i\n",
    "    return -1"
   ],
   "id": "738f178fb9a54f84",
   "outputs": [],
   "execution_count": 9
  },
  {
   "metadata": {
    "ExecuteTime": {
     "end_time": "2024-12-10T03:14:24.917960Z",
     "start_time": "2024-12-10T03:14:15.148697Z"
    }
   },
   "cell_type": "code",
   "source": [
    "for file_id in range(max_file_id, -1, -1):\n",
    "    file_tracker = file_trackers[file_id]\n",
    "    free_index = find_contiguous_free_spaces(data, file_tracker.size)\n",
    "    if free_index == -1:\n",
    "        continue\n",
    "    elif free_index > file_tracker.start_index:\n",
    "        continue\n",
    "    for i in range(file_tracker.size):\n",
    "        data[free_index + i] = file_tracker.file_id\n",
    "        data[file_tracker.start_index + i] = FREE_SPACE\n",
    "    file_tracker.start_index = free_index"
   ],
   "id": "a34db51049acfb55",
   "outputs": [],
   "execution_count": 10
  },
  {
   "metadata": {
    "ExecuteTime": {
     "end_time": "2024-12-10T03:14:32.507047Z",
     "start_time": "2024-12-10T03:14:32.494984Z"
    }
   },
   "cell_type": "code",
   "source": [
    "sum = 0\n",
    "for i, d in enumerate(data):\n",
    "    if d == FREE_SPACE:\n",
    "        continue\n",
    "    sum += i * d\n",
    "print(sum)\n"
   ],
   "id": "bdbea1975c7e54ef",
   "outputs": [
    {
     "name": "stdout",
     "output_type": "stream",
     "text": [
      "6420913943576\n"
     ]
    }
   ],
   "execution_count": 11
  }
 ],
 "metadata": {
  "kernelspec": {
   "display_name": "Python 3",
   "language": "python",
   "name": "python3"
  },
  "language_info": {
   "codemirror_mode": {
    "name": "ipython",
    "version": 2
   },
   "file_extension": ".py",
   "mimetype": "text/x-python",
   "name": "python",
   "nbconvert_exporter": "python",
   "pygments_lexer": "ipython2",
   "version": "2.7.6"
  }
 },
 "nbformat": 4,
 "nbformat_minor": 5
}
